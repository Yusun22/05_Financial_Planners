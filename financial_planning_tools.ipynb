{
 "cells": [
  {
   "cell_type": "markdown",
   "metadata": {},
   "source": [
    "# Financial Planning with APIs and Simulations\n",
    "\n",
    "In this Challenge, you’ll create two financial analysis tools by using a single Jupyter notebook:\n",
    "\n",
    "Part 1: A financial planner for emergencies. The members will be able to use this tool to visualize their current savings. The members can then determine if they have enough reserves for an emergency fund.\n",
    "\n",
    "Part 2: A financial planner for retirement. This tool will forecast the performance of their retirement portfolio in 30 years. To do this, the tool will make an Alpaca API call via the Alpaca SDK to get historical price data for use in Monte Carlo simulations.\n",
    "\n",
    "You’ll use the information from the Monte Carlo simulation to answer questions about the portfolio in your Jupyter notebook.\n",
    "\n"
   ]
  },
  {
   "cell_type": "code",
   "execution_count": 133,
   "metadata": {},
   "outputs": [],
   "source": [
    "# Import the required libraries and dependencies\n",
    "import os\n",
    "import requests\n",
    "import json\n",
    "import pandas as pd\n",
    "from dotenv import load_dotenv\n",
    "import alpaca_trade_api as tradeapi\n",
    "from MCForecastTools import MCSimulation\n",
    "\n",
    "%matplotlib inline"
   ]
  },
  {
   "cell_type": "code",
   "execution_count": 134,
   "metadata": {},
   "outputs": [
    {
     "data": {
      "text/plain": [
       "str"
      ]
     },
     "metadata": {},
     "output_type": "display_data"
    },
    {
     "data": {
      "text/plain": [
       "str"
      ]
     },
     "metadata": {},
     "output_type": "display_data"
    }
   ],
   "source": [
    "# Load the environment variables from the .env file\n",
    "#by calling the load_dotenv function\n",
    "load_dotenv()\n",
    "\n",
    "# Set Alpaca API key and secret\n",
    "alpaca_api_key = os.getenv(\"ALPACA_API_KEY\")\n",
    "alpaca_secret_key = os.getenv(\"ALPACA_SECRET_KEY\")\n",
    "\n",
    "display(type(alpaca_api_key))\n",
    "display(type(alpaca_secret_key))"
   ]
  },
  {
   "cell_type": "markdown",
   "metadata": {},
   "source": [
    "## Part 1: Create a Financial Planner for Emergencies"
   ]
  },
  {
   "cell_type": "markdown",
   "metadata": {},
   "source": [
    "### Evaluate the Cryptocurrency Wallet by Using the Requests Library\n",
    "\n",
    "In this section, you’ll determine the current value of a member’s cryptocurrency wallet. You’ll collect the current prices for the Bitcoin and Ethereum cryptocurrencies by using the Python Requests library. For the prototype, you’ll assume that the member holds the 1.2 Bitcoins (BTC) and 5.3 Ethereum coins (ETH). To do all this, complete the following steps:\n",
    "\n",
    "1. Create a variable named `monthly_income`, and set its value to `12000`.\n",
    "\n",
    "2. Use the Requests library to get the current price (in US dollars) of Bitcoin (BTC) and Ethereum (ETH) by using the API endpoints that the starter code supplies.\n",
    "\n",
    "3. Navigate the JSON response object to access the current price of each coin, and store each in a variable.\n",
    "\n",
    "    > **Hint** Note the specific identifier for each cryptocurrency in the API JSON response. The Bitcoin identifier is `1`, and the Ethereum identifier is `1027`.\n",
    "\n",
    "4. Calculate the value, in US dollars, of the current amount of each cryptocurrency and of the entire cryptocurrency wallet.\n",
    "\n"
   ]
  },
  {
   "cell_type": "code",
   "execution_count": 135,
   "metadata": {},
   "outputs": [],
   "source": [
    "# The current number of coins for each cryptocurrency asset held in the portfolio.\n",
    "btc_coins = 1.2\n",
    "eth_coins = 5.3"
   ]
  },
  {
   "cell_type": "markdown",
   "metadata": {},
   "source": [
    "#### Step 1: Create a variable named `monthly_income`, and set its value to `12000`."
   ]
  },
  {
   "cell_type": "code",
   "execution_count": 136,
   "metadata": {},
   "outputs": [],
   "source": [
    "# The monthly amount for the member's household income\n",
    "monthly_income = 12000"
   ]
  },
  {
   "cell_type": "markdown",
   "metadata": {},
   "source": [
    "#### Review the endpoint URLs for the API calls to Free Crypto API in order to get the current pricing information for both BTC and ETH."
   ]
  },
  {
   "cell_type": "code",
   "execution_count": 137,
   "metadata": {},
   "outputs": [],
   "source": [
    "# The Free Crypto API Call endpoint URLs for the held cryptocurrency assets\n",
    "btc_url = \"https://api.alternative.me/v2/ticker/Bitcoin/?convert=USD\"\n",
    "eth_url = \"https://api.alternative.me/v2/ticker/Ethereum/?convert=USD\""
   ]
  },
  {
   "cell_type": "markdown",
   "metadata": {},
   "source": [
    "#### Step 2. Use the Requests library to get the current price (in US dollars) of Bitcoin (BTC) and Ethereum (ETH) by using the API endpoints that the starter code supplied."
   ]
  },
  {
   "cell_type": "code",
   "execution_count": 138,
   "metadata": {},
   "outputs": [
    {
     "name": "stdout",
     "output_type": "stream",
     "text": [
      "{\n",
      "    \"data\": {\n",
      "        \"1\": {\n",
      "            \"circulating_supply\": 18944456,\n",
      "            \"id\": 1,\n",
      "            \"last_updated\": 1643587069,\n",
      "            \"max_supply\": 21000000,\n",
      "            \"name\": \"Bitcoin\",\n",
      "            \"quotes\": {\n",
      "                \"USD\": {\n",
      "                    \"market_cap\": 719905668284,\n",
      "                    \"percent_change_1h\": 0.378274102927213,\n",
      "                    \"percent_change_24h\": -0.559501088547105,\n",
      "                    \"percent_change_7d\": 8.06651133174057,\n",
      "                    \"percentage_change_1h\": 0.378274102927213,\n",
      "                    \"percentage_change_24h\": -0.559501088547105,\n",
      "                    \"percentage_change_7d\": 8.06651133174057,\n",
      "                    \"price\": 38018.0,\n",
      "                    \"volume_24h\": 11958206112\n",
      "                }\n",
      "            },\n",
      "            \"rank\": 1,\n",
      "            \"symbol\": \"BTC\",\n",
      "            \"total_supply\": 18944456,\n",
      "            \"website_slug\": \"bitcoin\"\n",
      "        }\n",
      "    },\n",
      "    \"metadata\": {\n",
      "        \"error\": null,\n",
      "        \"num_cryptocurrencies\": 3105,\n",
      "        \"timestamp\": 1643587069\n",
      "    }\n",
      "}\n"
     ]
    }
   ],
   "source": [
    "# Using the Python requests library, make an API call to access the current price of BTC\n",
    "btc_response = requests.get(\"https://api.alternative.me/v2/ticker/Bitcoin/?convert=USD\").json()\n",
    "\n",
    "# Use the json.dumps function to review the response data from the API call\n",
    "# Use the indent and sort_keys parameters to make the response object readable\n",
    "# YOUR CODE HERE\n",
    "print(json.dumps(btc_response, indent=4, sort_keys=True))"
   ]
  },
  {
   "cell_type": "code",
   "execution_count": 139,
   "metadata": {},
   "outputs": [
    {
     "name": "stdout",
     "output_type": "stream",
     "text": [
      "{\n",
      "    \"data\": {\n",
      "        \"1027\": {\n",
      "            \"circulating_supply\": 119379669,\n",
      "            \"id\": 1027,\n",
      "            \"last_updated\": 1643587155,\n",
      "            \"max_supply\": 0,\n",
      "            \"name\": \"Ethereum\",\n",
      "            \"quotes\": {\n",
      "                \"USD\": {\n",
      "                    \"market_cap\": 311822410962,\n",
      "                    \"percent_change_1h\": 1.10989579407775,\n",
      "                    \"percent_change_24h\": 0.139263147602125,\n",
      "                    \"percent_change_7d\": 8.42429259068393,\n",
      "                    \"percentage_change_1h\": 1.10989579407775,\n",
      "                    \"percentage_change_24h\": 0.139263147602125,\n",
      "                    \"percentage_change_7d\": 8.42429259068393,\n",
      "                    \"price\": 2610.18,\n",
      "                    \"volume_24h\": 8937393970\n",
      "                }\n",
      "            },\n",
      "            \"rank\": 2,\n",
      "            \"symbol\": \"ETH\",\n",
      "            \"total_supply\": 119379669,\n",
      "            \"website_slug\": \"ethereum\"\n",
      "        }\n",
      "    },\n",
      "    \"metadata\": {\n",
      "        \"error\": null,\n",
      "        \"num_cryptocurrencies\": 3105,\n",
      "        \"timestamp\": 1643587155\n",
      "    }\n",
      "}\n"
     ]
    }
   ],
   "source": [
    "# Using the Python requests library, make an API call to access the current price ETH\n",
    "eth_response = requests.get(\"https://api.alternative.me/v2/ticker/Ethereum/?convert=USD\").json()\n",
    "\n",
    "# Use the json.dumps function to review the response data from the API call\n",
    "# Use the indent and sort_keys parameters to make the response object readable\n",
    "# YOUR CODE HERE\n",
    "print(json.dumps(eth_response, indent=4, sort_keys=True))"
   ]
  },
  {
   "cell_type": "markdown",
   "metadata": {},
   "source": [
    "#### Step 3: Navigate the JSON response object to access the current price of each coin, and store each in a variable."
   ]
  },
  {
   "cell_type": "code",
   "execution_count": 140,
   "metadata": {},
   "outputs": [
    {
     "name": "stdout",
     "output_type": "stream",
     "text": [
      "The price for Bitcoin is $38018.0\n"
     ]
    }
   ],
   "source": [
    "# Navigate the BTC response object to access the current price of BTC\n",
    "btc_price = btc_response['data']['1']['quotes']['USD']['price']\n",
    "\n",
    "# Print the current price of BTC\n",
    "print(f\"The price for Bitcoin is ${btc_price}\")"
   ]
  },
  {
   "cell_type": "code",
   "execution_count": 141,
   "metadata": {},
   "outputs": [
    {
     "name": "stdout",
     "output_type": "stream",
     "text": [
      "The price for Ethereum is $2610.18\n"
     ]
    }
   ],
   "source": [
    "# Navigate the BTC response object to access the current price of ETH\n",
    "eth_price = eth_response['data']['1027']['quotes']['USD']['price']\n",
    "\n",
    "# Print the current price of ETH\n",
    "print(f\"The price for Ethereum is ${eth_price}\")"
   ]
  },
  {
   "cell_type": "markdown",
   "metadata": {},
   "source": [
    "### Step 4: Calculate the value, in US dollars, of the current amount of each cryptocurrency and of the entire cryptocurrency wallet."
   ]
  },
  {
   "cell_type": "code",
   "execution_count": 142,
   "metadata": {},
   "outputs": [
    {
     "name": "stdout",
     "output_type": "stream",
     "text": [
      "The current value of your holding in BTC is $45621.60\n"
     ]
    }
   ],
   "source": [
    "# Compute the current value of the BTC holding \n",
    "btc_value = btc_coins * btc_price\n",
    "\n",
    "# Print current value of your holding in BTC\n",
    "# YOUR CODE HERE\n",
    "print(f\"The current value of your holding in BTC is ${btc_value:.2f}\")"
   ]
  },
  {
   "cell_type": "code",
   "execution_count": 143,
   "metadata": {},
   "outputs": [
    {
     "name": "stdout",
     "output_type": "stream",
     "text": [
      "The current value of your holding in ETH is $13833.95\n"
     ]
    }
   ],
   "source": [
    "# Compute the current value of the ETH holding \n",
    "eth_value = eth_coins * eth_price\n",
    "\n",
    "# Print current value of your holding in ETH\n",
    "print(f\"The current value of your holding in ETH is ${eth_value:.2f}\")"
   ]
  },
  {
   "cell_type": "code",
   "execution_count": 144,
   "metadata": {},
   "outputs": [
    {
     "name": "stdout",
     "output_type": "stream",
     "text": [
      "The current value of your cryptocurrency wallet is $59455.55\n"
     ]
    }
   ],
   "source": [
    "# Compute the total value of the cryptocurrency wallet\n",
    "# Add the value of the BTC holding to the value of the ETH holding\n",
    "total_crypto_wallet = round(float(btc_value + eth_value),2)\n",
    "\n",
    "# Print current cryptocurrency wallet balance\n",
    "print(f\"The current value of your cryptocurrency wallet is ${total_crypto_wallet}\")"
   ]
  },
  {
   "cell_type": "markdown",
   "metadata": {},
   "source": [
    "### Evaluate the Stock and Bond Holdings by Using the Alpaca SDK\n",
    "\n",
    "In this section, you’ll determine the current value of a member’s stock and bond holdings. You’ll make an API call to Alpaca via the Alpaca SDK to get the current closing prices of the SPDR S&P 500 ETF Trust (ticker: SPY) and of the iShares Core US Aggregate Bond ETF (ticker: AGG). For the prototype, assume that the member holds 110 shares of SPY, which represents the stock portion of their portfolio, and 200 shares of AGG, which represents the bond portion. To do all this, complete the following steps:\n",
    "\n",
    "1. In the `Starter_Code` folder, create an environment file (`.env`) to store the values of your Alpaca API key and Alpaca secret key.\n",
    "\n",
    "2. Set the variables for the Alpaca API and secret keys. Using the Alpaca SDK, create the Alpaca `tradeapi.REST` object. In this object, include the parameters for the Alpaca API key, the secret key, and the version number.\n",
    "\n",
    "3. Set the following parameters for the Alpaca API call:\n",
    "\n",
    "    - `tickers`: Use the tickers for the member’s stock and bond holdings.\n",
    "\n",
    "    - `timeframe`: Use a time frame of one day.\n",
    "\n",
    "    - `start_date` and `end_date`: Use the same date for these parameters, and format them with the date of the previous weekday (or `2020-08-07`). This is because you want the one closing price for the most-recent trading day.\n",
    "\n",
    "4. Get the current closing prices for `SPY` and `AGG` by using the Alpaca `get_barset` function. Format the response as a Pandas DataFrame by including the `df` property at the end of the `get_barset` function.\n",
    "\n",
    "5. Navigating the Alpaca response DataFrame, select the `SPY` and `AGG` closing prices, and store them as variables.\n",
    "\n",
    "6. Calculate the value, in US dollars, of the current amount of shares in each of the stock and bond portions of the portfolio, and print the results.\n"
   ]
  },
  {
   "cell_type": "markdown",
   "metadata": {},
   "source": [
    "#### Review the total number of shares held in both (SPY) and (AGG)."
   ]
  },
  {
   "cell_type": "code",
   "execution_count": 112,
   "metadata": {},
   "outputs": [],
   "source": [
    "# Current amount of shares held in both the stock (SPY) and bond (AGG) portion of the portfolio.\n",
    "agg = 200\n",
    "spy = 110\n"
   ]
  },
  {
   "cell_type": "markdown",
   "metadata": {},
   "source": [
    "#### Step 1: In the `Starter_Code` folder, create an environment file (`.env`) to store the values of your Alpaca API key and Alpaca secret key."
   ]
  },
  {
   "cell_type": "markdown",
   "metadata": {},
   "source": [
    "#### Step 2: Set the variables for the Alpaca API and secret keys. Using the Alpaca SDK, create the Alpaca `tradeapi.REST` object. In this object, include the parameters for the Alpaca API key, the secret key, and the version number."
   ]
  },
  {
   "cell_type": "code",
   "execution_count": 113,
   "metadata": {},
   "outputs": [
    {
     "data": {
      "text/plain": [
       "str"
      ]
     },
     "metadata": {},
     "output_type": "display_data"
    },
    {
     "data": {
      "text/plain": [
       "str"
      ]
     },
     "metadata": {},
     "output_type": "display_data"
    }
   ],
   "source": [
    "# Set the variables for the Alpaca API and secret keys\n",
    "alpaca_api_key = os.getenv(\"ALPACA_API_KEY\")\n",
    "alpaca_secret_key = os.getenv(\"ALPACA_SECRET_KEY\")\n",
    "\n",
    "# Check the values were imported correctly by evaluating the type of each\n",
    "display(type(alpaca_api_key))\n",
    "display(type(alpaca_secret_key))\n",
    "\n",
    "# Create the Alpaca tradeapi.REST object\n",
    "alpaca = tradeapi.REST(\n",
    "    alpaca_api_key,\n",
    "    alpaca_secret_key,\n",
    "    api_version=\"v2\")"
   ]
  },
  {
   "cell_type": "markdown",
   "metadata": {},
   "source": [
    "#### Step 3: Set the following parameters for the Alpaca API call:\n",
    "\n",
    "- `tickers`: Use the tickers for the member’s stock and bond holdings.\n",
    "\n",
    "- `timeframe`: Use a time frame of one day.\n",
    "\n",
    "- `start_date` and `end_date`: Use the same date for these parameters, and format them with the date of the previous weekday (or `2020-08-07`). This is because you want the one closing price for the most-recent trading day.\n"
   ]
  },
  {
   "cell_type": "code",
   "execution_count": 163,
   "metadata": {},
   "outputs": [],
   "source": [
    "# Set the tickers for both the bond and stock portion of the portfolio\n",
    "tickers = [\"SPY\", \"AGG\"]\n",
    "\n",
    "# Set timeframe to 1D \n",
    "timeframe = \"1D\"\n",
    "\n",
    "# Format current date as ISO format\n",
    "# Set both the start and end date at the date of your prior weekday \n",
    "# This will give you the closing price of the previous trading day\n",
    "# Alternatively you can use a start and end date of 2020-08-07\n",
    "\n",
    "start_date = pd.Timestamp(\"2022-01-21\", tz=\"America/New_York\").isoformat()\n",
    "end_date = pd.Timestamp(\"2022-01-21\", tz=\"America/New_York\").isoformat()\n"
   ]
  },
  {
   "cell_type": "markdown",
   "metadata": {},
   "source": [
    "#### Step 4: Get the current closing prices for `SPY` and `AGG` by using the Alpaca `get_barset` function. Format the response as a Pandas DataFrame by including the `df` property at the end of the `get_barset` function."
   ]
  },
  {
   "cell_type": "code",
   "execution_count": 165,
   "metadata": {},
   "outputs": [
    {
     "data": {
      "text/html": [
       "<div>\n",
       "<style scoped>\n",
       "    .dataframe tbody tr th:only-of-type {\n",
       "        vertical-align: middle;\n",
       "    }\n",
       "\n",
       "    .dataframe tbody tr th {\n",
       "        vertical-align: top;\n",
       "    }\n",
       "\n",
       "    .dataframe thead tr th {\n",
       "        text-align: left;\n",
       "    }\n",
       "\n",
       "    .dataframe thead tr:last-of-type th {\n",
       "        text-align: right;\n",
       "    }\n",
       "</style>\n",
       "<table border=\"1\" class=\"dataframe\">\n",
       "  <thead>\n",
       "    <tr>\n",
       "      <th></th>\n",
       "      <th colspan=\"5\" halign=\"left\">AGG</th>\n",
       "      <th colspan=\"5\" halign=\"left\">SPY</th>\n",
       "    </tr>\n",
       "    <tr>\n",
       "      <th></th>\n",
       "      <th>open</th>\n",
       "      <th>high</th>\n",
       "      <th>low</th>\n",
       "      <th>close</th>\n",
       "      <th>volume</th>\n",
       "      <th>open</th>\n",
       "      <th>high</th>\n",
       "      <th>low</th>\n",
       "      <th>close</th>\n",
       "      <th>volume</th>\n",
       "    </tr>\n",
       "    <tr>\n",
       "      <th>time</th>\n",
       "      <th></th>\n",
       "      <th></th>\n",
       "      <th></th>\n",
       "      <th></th>\n",
       "      <th></th>\n",
       "      <th></th>\n",
       "      <th></th>\n",
       "      <th></th>\n",
       "      <th></th>\n",
       "      <th></th>\n",
       "    </tr>\n",
       "  </thead>\n",
       "  <tbody>\n",
       "    <tr>\n",
       "      <th>2022-01-21 00:00:00-05:00</th>\n",
       "      <td>112.19</td>\n",
       "      <td>112.35</td>\n",
       "      <td>112.11</td>\n",
       "      <td>112.24</td>\n",
       "      <td>7789076</td>\n",
       "      <td>445.56</td>\n",
       "      <td>448.06</td>\n",
       "      <td>437.97</td>\n",
       "      <td>438.11</td>\n",
       "      <td>174541931</td>\n",
       "    </tr>\n",
       "  </tbody>\n",
       "</table>\n",
       "</div>"
      ],
      "text/plain": [
       "                              AGG                                      SPY  \\\n",
       "                             open    high     low   close   volume    open   \n",
       "time                                                                         \n",
       "2022-01-21 00:00:00-05:00  112.19  112.35  112.11  112.24  7789076  445.56   \n",
       "\n",
       "                                                              \n",
       "                             high     low   close     volume  \n",
       "time                                                          \n",
       "2022-01-21 00:00:00-05:00  448.06  437.97  438.11  174541931  "
      ]
     },
     "execution_count": 165,
     "metadata": {},
     "output_type": "execute_result"
    }
   ],
   "source": [
    "# Use the Alpaca get_barset function to get current closing prices the portfolio\n",
    "# Be sure to set the `df` property after the function to format the response object as a DataFrame\n",
    "\n",
    "alpaca_df_portfolio = alpaca.get_barset(\n",
    "    tickers,\n",
    "    timeframe,\n",
    "    start = start_date,\n",
    "    end = end_date\n",
    ").df\n",
    "\n",
    "\n",
    "# Review the first 5 rows of the Alpaca DataFrame\n",
    "alpaca_df_portfolio"
   ]
  },
  {
   "cell_type": "markdown",
   "metadata": {},
   "source": [
    "#### Step 5: Navigating the Alpaca response DataFrame, select the `SPY` and `AGG` closing prices, and store them as variables."
   ]
  },
  {
   "cell_type": "code",
   "execution_count": 166,
   "metadata": {},
   "outputs": [
    {
     "name": "stdout",
     "output_type": "stream",
     "text": [
      "112.24\n",
      "<class 'float'>\n"
     ]
    }
   ],
   "source": [
    "# Access the closing price for AGG from the Alpaca DataFrame\n",
    "# Converting the value to a floating point number\n",
    "agg_close_price = float(alpaca_df_portfolio[\"AGG\", \"close\"])\n",
    "\n",
    "# Print the AGG closing price\n",
    "print(agg_close_price)\n",
    "print(type(agg_close_price))"
   ]
  },
  {
   "cell_type": "code",
   "execution_count": 167,
   "metadata": {},
   "outputs": [
    {
     "name": "stdout",
     "output_type": "stream",
     "text": [
      "438.11\n",
      "<class 'float'>\n"
     ]
    }
   ],
   "source": [
    "# Access the closing price for SPY from the Alpaca DataFrame\n",
    "# Converting the value to a floating point number\n",
    "spy_close_price = float(alpaca_df_portfolio[\"SPY\", \"close\"])\n",
    "\n",
    "# Print the SPY closing price\n",
    "print(spy_close_price)\n",
    "print(type(spy_close_price))"
   ]
  },
  {
   "cell_type": "markdown",
   "metadata": {},
   "source": [
    "#### Step 6: Calculate the value, in US dollars, of the current amount of shares in each of the stock and bond portions of the portfolio, and print the results."
   ]
  },
  {
   "cell_type": "code",
   "execution_count": 168,
   "metadata": {},
   "outputs": [
    {
     "data": {
      "text/plain": [
       "22448.0"
      ]
     },
     "execution_count": 168,
     "metadata": {},
     "output_type": "execute_result"
    }
   ],
   "source": [
    "# Calculate the current value of the bond portion of the portfolio\n",
    "agg_value = float(agg * agg_close_price)\n",
    "\n",
    "# Print the current value of the bond portfolio\n",
    "agg_value"
   ]
  },
  {
   "cell_type": "code",
   "execution_count": 169,
   "metadata": {},
   "outputs": [
    {
     "data": {
      "text/plain": [
       "48192.1"
      ]
     },
     "execution_count": 169,
     "metadata": {},
     "output_type": "execute_result"
    }
   ],
   "source": [
    "# Calculate the current value of the stock portion of the portfolio\n",
    "spy_value = float(spy * spy_close_price)\n",
    "\n",
    "# Print the current value of the stock portfolio\n",
    "spy_value"
   ]
  },
  {
   "cell_type": "code",
   "execution_count": 170,
   "metadata": {},
   "outputs": [
    {
     "data": {
      "text/plain": [
       "70640.1"
      ]
     },
     "execution_count": 170,
     "metadata": {},
     "output_type": "execute_result"
    }
   ],
   "source": [
    "# Calculate the total value of the stock and bond portion of the portfolio\n",
    "total_stocks_bonds = float(agg_value + spy_value)\n",
    "\n",
    "# Print the current balance of the stock and bond portion of the portfolio\n",
    "total_stocks_bonds"
   ]
  },
  {
   "cell_type": "code",
   "execution_count": 171,
   "metadata": {},
   "outputs": [
    {
     "data": {
      "text/plain": [
       "130095.65"
      ]
     },
     "execution_count": 171,
     "metadata": {},
     "output_type": "execute_result"
    }
   ],
   "source": [
    "# Calculate the total value of the member's entire savings portfolio\n",
    "# Add the value of the cryptocurrency walled to the value of the total stocks and bonds\n",
    "total_portfolio = round(float(total_stocks_bonds + total_crypto_wallet), 2)\n",
    "\n",
    "# Print current cryptocurrency wallet balance\n",
    "total_portfolio"
   ]
  },
  {
   "cell_type": "markdown",
   "metadata": {},
   "source": [
    "### Evaluate the Emergency Fund\n",
    "\n",
    "In this section, you’ll use the valuations for the cryptocurrency wallet and for the stock and bond portions of the portfolio to determine if the credit union member has enough savings to build an emergency fund into their financial plan. To do this, complete the following steps:\n",
    "\n",
    "1. Create a Python list named `savings_data` that has two elements. The first element contains the total value of the cryptocurrency wallet. The second element contains the total value of the stock and bond portions of the portfolio.\n",
    "\n",
    "2. Use the `savings_data` list to create a Pandas DataFrame named `savings_df`, and then display this DataFrame. The function to create the DataFrame should take the following three parameters:\n",
    "\n",
    "    - `savings_data`: Use the list that you just created.\n",
    "\n",
    "    - `columns`: Set this parameter equal to a Python list with a single value called `amount`.\n",
    "\n",
    "    - `index`: Set this parameter equal to a Python list with the values of `crypto` and `stock/bond`.\n",
    "\n",
    "3. Use the `savings_df` DataFrame to plot a pie chart that visualizes the composition of the member’s portfolio. The y-axis of the pie chart uses `amount`. Be sure to add a title.\n",
    "\n",
    "4. Using Python, determine if the current portfolio has enough to create an emergency fund as part of the member’s financial plan. Ideally, an emergency fund should equal to three times the member’s monthly income. To do this, implement the following steps:\n",
    "\n",
    "    1. Create a variable named `emergency_fund_value`, and set it equal to three times the value of the member’s `monthly_income` of $12000. (You set this earlier in Part 1).\n",
    "\n",
    "    2. Create a series of three if statements to determine if the member’s total portfolio is large enough to fund the emergency portfolio:\n",
    "\n",
    "        1. If the total portfolio value is greater than the emergency fund value, display a message congratulating the member for having enough money in this fund.\n",
    "\n",
    "        2. Else if the total portfolio value is equal to the emergency fund value, display a message congratulating the member on reaching this important financial goal.\n",
    "\n",
    "        3. Else the total portfolio is less than the emergency fund value, so display a message showing how many dollars away the member is from reaching the goal. (Subtract the total portfolio value from the emergency fund value.)\n"
   ]
  },
  {
   "cell_type": "markdown",
   "metadata": {},
   "source": [
    "#### Step 1: Create a Python list named `savings_data` that has two elements. The first element contains the total value of the cryptocurrency wallet. The second element contains the total value of the stock and bond portions of the portfolio."
   ]
  },
  {
   "cell_type": "code",
   "execution_count": 172,
   "metadata": {},
   "outputs": [
    {
     "data": {
      "text/plain": [
       "[59455.55, 70640.1]"
      ]
     },
     "execution_count": 172,
     "metadata": {},
     "output_type": "execute_result"
    }
   ],
   "source": [
    "# Consolidate financial assets data into a Python list\n",
    "savings_data =[\n",
    "    total_crypto_wallet,\n",
    "    total_stocks_bonds\n",
    "]\n",
    "\n",
    "# Review the Python list savings_data\n",
    "savings_data    "
   ]
  },
  {
   "cell_type": "markdown",
   "metadata": {},
   "source": [
    "#### Step 2: Use the `savings_data` list to create a Pandas DataFrame named `savings_df`, and then display this DataFrame. The function to create the DataFrame should take the following three parameters:\n",
    "\n",
    "- `savings_data`: Use the list that you just created.\n",
    "\n",
    "- `columns`: Set this parameter equal to a Python list with a single value called `amount`.\n",
    "\n",
    "- `index`: Set this parameter equal to a Python list with the values of `crypto` and `stock/bond`.\n"
   ]
  },
  {
   "cell_type": "code",
   "execution_count": 173,
   "metadata": {},
   "outputs": [
    {
     "data": {
      "text/html": [
       "<div>\n",
       "<style scoped>\n",
       "    .dataframe tbody tr th:only-of-type {\n",
       "        vertical-align: middle;\n",
       "    }\n",
       "\n",
       "    .dataframe tbody tr th {\n",
       "        vertical-align: top;\n",
       "    }\n",
       "\n",
       "    .dataframe thead th {\n",
       "        text-align: right;\n",
       "    }\n",
       "</style>\n",
       "<table border=\"1\" class=\"dataframe\">\n",
       "  <thead>\n",
       "    <tr style=\"text-align: right;\">\n",
       "      <th></th>\n",
       "      <th>Amount</th>\n",
       "    </tr>\n",
       "  </thead>\n",
       "  <tbody>\n",
       "    <tr>\n",
       "      <th>Total Crypto Wallet</th>\n",
       "      <td>59455.55</td>\n",
       "    </tr>\n",
       "    <tr>\n",
       "      <th>Total Stocks Bonds</th>\n",
       "      <td>70640.10</td>\n",
       "    </tr>\n",
       "  </tbody>\n",
       "</table>\n",
       "</div>"
      ],
      "text/plain": [
       "                       Amount\n",
       "Total Crypto Wallet  59455.55\n",
       "Total Stocks Bonds   70640.10"
      ]
     },
     "execution_count": 173,
     "metadata": {},
     "output_type": "execute_result"
    }
   ],
   "source": [
    "# Create a Pandas DataFrame called savings_df \n",
    "savings_df = pd.DataFrame(\n",
    "    savings_data,\n",
    "    columns=['Amount'],\n",
    "    index=['Total Crypto Wallet', 'Total Stocks Bonds']\n",
    ")\n",
    "    \n",
    "# Display the savings_df DataFrame\n",
    "savings_df"
   ]
  },
  {
   "cell_type": "markdown",
   "metadata": {},
   "source": [
    "#### Step 3: Use the `savings_df` DataFrame to plot a pie chart that visualizes the composition of the member’s portfolio. The y-axis of the pie chart uses `amount`. Be sure to add a title."
   ]
  },
  {
   "cell_type": "code",
   "execution_count": 174,
   "metadata": {},
   "outputs": [
    {
     "data": {
      "text/plain": [
       "<AxesSubplot:title={'center':'Portfolio Composition'}, ylabel='Amount'>"
      ]
     },
     "execution_count": 174,
     "metadata": {},
     "output_type": "execute_result"
    },
    {
     "data": {
      "image/png": "[encoded data removed]",
      "text/plain": [
       "<Figure size 432x288 with 1 Axes>"
      ]
     },
     "metadata": {},
     "output_type": "display_data"
    }
   ],
   "source": [
    "# Plot the total value of the member's portfolio (crypto and stock/bond) in a pie chart\n",
    "savings_df.plot.pie(y='Amount', title='Portfolio Composition')"
   ]
  },
  {
   "cell_type": "markdown",
   "metadata": {},
   "source": [
    "#### Step 4: Using Python, determine if the current portfolio has enough to create an emergency fund as part of the member’s financial plan. Ideally, an emergency fund should equal to three times the member’s monthly income. To do this, implement the following steps:\n",
    "\n",
    "Step 1. Create a variable named `emergency_fund_value`, and set it equal to three times the value of the member’s `monthly_income` of 12000. (You set this earlier in Part 1).\n",
    "\n",
    "Step 2. Create a series of three if statements to determine if the member’s total portfolio is large enough to fund the emergency portfolio:\n",
    "\n",
    "* If the total portfolio value is greater than the emergency fund value, display a message congratulating the member for having enough money in this fund.\n",
    "\n",
    "* Else if the total portfolio value is equal to the emergency fund value, display a message congratulating the member on reaching this important financial goal.\n",
    "\n",
    "* Else the total portfolio is less than the emergency fund value, so display a message showing how many dollars away the member is from reaching the goal. (Subtract the total portfolio value from the emergency fund value.)\n"
   ]
  },
  {
   "cell_type": "markdown",
   "metadata": {},
   "source": [
    "##### Step 4-1: Create a variable named `emergency_fund_value`, and set it equal to three times the value of the member’s `monthly_income` of 12000. (You set this earlier in Part 1)."
   ]
  },
  {
   "cell_type": "code",
   "execution_count": 175,
   "metadata": {},
   "outputs": [
    {
     "data": {
      "text/plain": [
       "36000"
      ]
     },
     "execution_count": 175,
     "metadata": {},
     "output_type": "execute_result"
    }
   ],
   "source": [
    "# Create a variable named emergency_fund_value\n",
    "emergency_fund_value = 3 * monthly_income\n",
    "emergency_fund_value"
   ]
  },
  {
   "cell_type": "markdown",
   "metadata": {},
   "source": [
    "##### Step 4-2: Create a series of three if statements to determine if the member’s total portfolio is large enough to fund the emergency portfolio:\n",
    "\n",
    "* If the total portfolio value is greater than the emergency fund value, display a message congratulating the member for having enough money in this fund.\n",
    "\n",
    "* Else if the total portfolio value is equal to the emergency fund value, display a message congratulating the member on reaching this important financial goal.\n",
    "\n",
    "* Else the total portfolio is less than the emergency fund value, so display a message showing how many dollars away the member is from reaching the goal. (Subtract the total portfolio value from the emergency fund value.)"
   ]
  },
  {
   "cell_type": "code",
   "execution_count": 176,
   "metadata": {},
   "outputs": [
    {
     "name": "stdout",
     "output_type": "stream",
     "text": [
      "Congratulations, you have enough money in this fund!\n"
     ]
    }
   ],
   "source": [
    "# Evaluate the possibility of creating an emergency fund with 3 conditions:\n",
    "\n",
    "if total_portfolio > emergency_fund_value:\n",
    "    print(f\"Congratulations, you have enough money in this fund!\")\n",
    "    \n",
    "elif total_portfolio  == emergency_fund_value:\n",
    "    print(f\"Congratulations on reaching this important financial goal!\")\n",
    "\n",
    "else: \n",
    "    print(f\"You are ${(emergency_fund_value - total_portfolio):0.2f} from reaching the goal.\")\n"
   ]
  },
  {
   "cell_type": "markdown",
   "metadata": {},
   "source": [
    "## Part 2: Create a Financial Planner for Retirement"
   ]
  },
  {
   "cell_type": "markdown",
   "metadata": {},
   "source": [
    "### Create the Monte Carlo Simulation\n",
    "\n",
    "In this section, you’ll use the MCForecastTools library to create a Monte Carlo simulation for the member’s savings portfolio. To do this, complete the following steps:\n",
    "\n",
    "1. Make an API call via the Alpaca SDK to get 3 years of historical closing prices for a traditional 60/40 portfolio split: 60% stocks (SPY) and 40% bonds (AGG).\n",
    "\n",
    "2. Run a Monte Carlo simulation of 500 samples and 30 years for the 60/40 portfolio, and then plot the results.The following image shows the overlay line plot resulting from a simulation with these characteristics. However, because a random number generator is used to run each live Monte Carlo simulation, your image will differ slightly from this exact image:\n",
    "\n",
    "![A screenshot depicts the resulting plot.](Images/5-4-monte-carlo-line-plot.png)\n",
    "\n",
    "3. Plot the probability distribution of the Monte Carlo simulation. Plot the probability distribution of the Monte Carlo simulation. The following image shows the histogram plot resulting from a simulation with these characteristics. However, because a random number generator is used to run each live Monte Carlo simulation, your image will differ slightly from this exact image:\n",
    "\n",
    "![A screenshot depicts the histogram plot.](Images/5-4-monte-carlo-histogram.png)\n",
    "\n",
    "4. Generate the summary statistics for the Monte Carlo simulation.\n",
    "\n"
   ]
  },
  {
   "cell_type": "markdown",
   "metadata": {},
   "source": [
    "#### Step 1: Make an API call via the Alpaca SDK to get 3 years of historical closing prices for a traditional 60/40 portfolio split: 60% stocks (SPY) and 40% bonds (AGG)."
   ]
  },
  {
   "cell_type": "code",
   "execution_count": 186,
   "metadata": {},
   "outputs": [],
   "source": [
    "# Set start and end dates of 3 years back from your current date\n",
    "# Alternatively, you can use an end date of 2020-08-07 and work 3 years back from that date \n",
    "start_date = pd.Timestamp(\"2017-08-07\", tz=\"America/New_York\").isoformat()\n",
    "end_date = pd.Timestamp(\"2020-08-07\", tz=\"America/New_York\").isoformat()\n",
    "\n",
    "# Set number of rows to 1000 to retrieve the maximum amount of rows\n",
    "limit_rows = 1000"
   ]
  },
  {
   "cell_type": "code",
   "execution_count": 187,
   "metadata": {},
   "outputs": [
    {
     "data": {
      "text/html": [
       "<div>\n",
       "<style scoped>\n",
       "    .dataframe tbody tr th:only-of-type {\n",
       "        vertical-align: middle;\n",
       "    }\n",
       "\n",
       "    .dataframe tbody tr th {\n",
       "        vertical-align: top;\n",
       "    }\n",
       "\n",
       "    .dataframe thead tr th {\n",
       "        text-align: left;\n",
       "    }\n",
       "\n",
       "    .dataframe thead tr:last-of-type th {\n",
       "        text-align: right;\n",
       "    }\n",
       "</style>\n",
       "<table border=\"1\" class=\"dataframe\">\n",
       "  <thead>\n",
       "    <tr>\n",
       "      <th></th>\n",
       "      <th colspan=\"5\" halign=\"left\">AGG</th>\n",
       "      <th colspan=\"5\" halign=\"left\">SPY</th>\n",
       "    </tr>\n",
       "    <tr>\n",
       "      <th></th>\n",
       "      <th>open</th>\n",
       "      <th>high</th>\n",
       "      <th>low</th>\n",
       "      <th>close</th>\n",
       "      <th>volume</th>\n",
       "      <th>open</th>\n",
       "      <th>high</th>\n",
       "      <th>low</th>\n",
       "      <th>close</th>\n",
       "      <th>volume</th>\n",
       "    </tr>\n",
       "    <tr>\n",
       "      <th>time</th>\n",
       "      <th></th>\n",
       "      <th></th>\n",
       "      <th></th>\n",
       "      <th></th>\n",
       "      <th></th>\n",
       "      <th></th>\n",
       "      <th></th>\n",
       "      <th></th>\n",
       "      <th></th>\n",
       "      <th></th>\n",
       "    </tr>\n",
       "  </thead>\n",
       "  <tbody>\n",
       "    <tr>\n",
       "      <th>2017-08-07 00:00:00-04:00</th>\n",
       "      <td>109.69</td>\n",
       "      <td>109.72</td>\n",
       "      <td>109.6066</td>\n",
       "      <td>109.6850</td>\n",
       "      <td>1425317.0</td>\n",
       "      <td>247.4900</td>\n",
       "      <td>247.87</td>\n",
       "      <td>247.37</td>\n",
       "      <td>247.850</td>\n",
       "      <td>20901988</td>\n",
       "    </tr>\n",
       "    <tr>\n",
       "      <th>2017-08-08 00:00:00-04:00</th>\n",
       "      <td>109.67</td>\n",
       "      <td>109.69</td>\n",
       "      <td>109.5000</td>\n",
       "      <td>109.5810</td>\n",
       "      <td>1998999.0</td>\n",
       "      <td>247.5100</td>\n",
       "      <td>248.91</td>\n",
       "      <td>246.83</td>\n",
       "      <td>247.291</td>\n",
       "      <td>44619069</td>\n",
       "    </tr>\n",
       "    <tr>\n",
       "      <th>2017-08-09 00:00:00-04:00</th>\n",
       "      <td>109.87</td>\n",
       "      <td>109.87</td>\n",
       "      <td>109.6600</td>\n",
       "      <td>109.6700</td>\n",
       "      <td>2069028.0</td>\n",
       "      <td>246.4700</td>\n",
       "      <td>247.31</td>\n",
       "      <td>246.06</td>\n",
       "      <td>247.230</td>\n",
       "      <td>48543032</td>\n",
       "    </tr>\n",
       "    <tr>\n",
       "      <th>2017-08-10 00:00:00-04:00</th>\n",
       "      <td>109.70</td>\n",
       "      <td>109.85</td>\n",
       "      <td>109.6700</td>\n",
       "      <td>109.8053</td>\n",
       "      <td>1691677.0</td>\n",
       "      <td>246.2800</td>\n",
       "      <td>246.44</td>\n",
       "      <td>243.70</td>\n",
       "      <td>243.790</td>\n",
       "      <td>87857827</td>\n",
       "    </tr>\n",
       "    <tr>\n",
       "      <th>2017-08-11 00:00:00-04:00</th>\n",
       "      <td>109.75</td>\n",
       "      <td>109.94</td>\n",
       "      <td>109.6800</td>\n",
       "      <td>109.8850</td>\n",
       "      <td>1613467.0</td>\n",
       "      <td>244.0200</td>\n",
       "      <td>244.80</td>\n",
       "      <td>243.75</td>\n",
       "      <td>244.110</td>\n",
       "      <td>56404847</td>\n",
       "    </tr>\n",
       "    <tr>\n",
       "      <th>...</th>\n",
       "      <td>...</td>\n",
       "      <td>...</td>\n",
       "      <td>...</td>\n",
       "      <td>...</td>\n",
       "      <td>...</td>\n",
       "      <td>...</td>\n",
       "      <td>...</td>\n",
       "      <td>...</td>\n",
       "      <td>...</td>\n",
       "      <td>...</td>\n",
       "    </tr>\n",
       "    <tr>\n",
       "      <th>2020-08-03 00:00:00-04:00</th>\n",
       "      <td>119.37</td>\n",
       "      <td>119.40</td>\n",
       "      <td>119.1903</td>\n",
       "      <td>119.4000</td>\n",
       "      <td>17837420.0</td>\n",
       "      <td>328.3200</td>\n",
       "      <td>329.62</td>\n",
       "      <td>327.73</td>\n",
       "      <td>328.760</td>\n",
       "      <td>71741125</td>\n",
       "    </tr>\n",
       "    <tr>\n",
       "      <th>2020-08-04 00:00:00-04:00</th>\n",
       "      <td>119.42</td>\n",
       "      <td>119.63</td>\n",
       "      <td>119.4200</td>\n",
       "      <td>119.6300</td>\n",
       "      <td>21512268.0</td>\n",
       "      <td>327.8600</td>\n",
       "      <td>330.06</td>\n",
       "      <td>327.86</td>\n",
       "      <td>330.030</td>\n",
       "      <td>73684427</td>\n",
       "    </tr>\n",
       "    <tr>\n",
       "      <th>2020-08-05 00:00:00-04:00</th>\n",
       "      <td>119.39</td>\n",
       "      <td>119.49</td>\n",
       "      <td>119.3100</td>\n",
       "      <td>119.4000</td>\n",
       "      <td>34175883.0</td>\n",
       "      <td>331.4700</td>\n",
       "      <td>332.39</td>\n",
       "      <td>331.18</td>\n",
       "      <td>332.060</td>\n",
       "      <td>72846458</td>\n",
       "    </tr>\n",
       "    <tr>\n",
       "      <th>2020-08-06 00:00:00-04:00</th>\n",
       "      <td>119.62</td>\n",
       "      <td>119.73</td>\n",
       "      <td>119.5300</td>\n",
       "      <td>119.5800</td>\n",
       "      <td>9009216.0</td>\n",
       "      <td>331.4799</td>\n",
       "      <td>334.46</td>\n",
       "      <td>331.13</td>\n",
       "      <td>334.310</td>\n",
       "      <td>76900649</td>\n",
       "    </tr>\n",
       "    <tr>\n",
       "      <th>2020-08-07 00:00:00-04:00</th>\n",
       "      <td>119.66</td>\n",
       "      <td>119.73</td>\n",
       "      <td>119.3950</td>\n",
       "      <td>119.4450</td>\n",
       "      <td>8830420.0</td>\n",
       "      <td>333.2800</td>\n",
       "      <td>334.88</td>\n",
       "      <td>332.30</td>\n",
       "      <td>334.550</td>\n",
       "      <td>98710236</td>\n",
       "    </tr>\n",
       "  </tbody>\n",
       "</table>\n",
       "<p>757 rows × 10 columns</p>\n",
       "</div>"
      ],
      "text/plain": [
       "                              AGG                                          \\\n",
       "                             open    high       low     close      volume   \n",
       "time                                                                        \n",
       "2017-08-07 00:00:00-04:00  109.69  109.72  109.6066  109.6850   1425317.0   \n",
       "2017-08-08 00:00:00-04:00  109.67  109.69  109.5000  109.5810   1998999.0   \n",
       "2017-08-09 00:00:00-04:00  109.87  109.87  109.6600  109.6700   2069028.0   \n",
       "2017-08-10 00:00:00-04:00  109.70  109.85  109.6700  109.8053   1691677.0   \n",
       "2017-08-11 00:00:00-04:00  109.75  109.94  109.6800  109.8850   1613467.0   \n",
       "...                           ...     ...       ...       ...         ...   \n",
       "2020-08-03 00:00:00-04:00  119.37  119.40  119.1903  119.4000  17837420.0   \n",
       "2020-08-04 00:00:00-04:00  119.42  119.63  119.4200  119.6300  21512268.0   \n",
       "2020-08-05 00:00:00-04:00  119.39  119.49  119.3100  119.4000  34175883.0   \n",
       "2020-08-06 00:00:00-04:00  119.62  119.73  119.5300  119.5800   9009216.0   \n",
       "2020-08-07 00:00:00-04:00  119.66  119.73  119.3950  119.4450   8830420.0   \n",
       "\n",
       "                                SPY                                     \n",
       "                               open    high     low    close    volume  \n",
       "time                                                                    \n",
       "2017-08-07 00:00:00-04:00  247.4900  247.87  247.37  247.850  20901988  \n",
       "2017-08-08 00:00:00-04:00  247.5100  248.91  246.83  247.291  44619069  \n",
       "2017-08-09 00:00:00-04:00  246.4700  247.31  246.06  247.230  48543032  \n",
       "2017-08-10 00:00:00-04:00  246.2800  246.44  243.70  243.790  87857827  \n",
       "2017-08-11 00:00:00-04:00  244.0200  244.80  243.75  244.110  56404847  \n",
       "...                             ...     ...     ...      ...       ...  \n",
       "2020-08-03 00:00:00-04:00  328.3200  329.62  327.73  328.760  71741125  \n",
       "2020-08-04 00:00:00-04:00  327.8600  330.06  327.86  330.030  73684427  \n",
       "2020-08-05 00:00:00-04:00  331.4700  332.39  331.18  332.060  72846458  \n",
       "2020-08-06 00:00:00-04:00  331.4799  334.46  331.13  334.310  76900649  \n",
       "2020-08-07 00:00:00-04:00  333.2800  334.88  332.30  334.550  98710236  \n",
       "\n",
       "[757 rows x 10 columns]"
      ]
     },
     "execution_count": 187,
     "metadata": {},
     "output_type": "execute_result"
    }
   ],
   "source": [
    "# Use the Alpaca get_barset function to make the API call to get the 3 years worth of pricing data\n",
    "# The tickers and timeframe parameters should have been set in Part 1 of this activity \n",
    "# The start and end dates should be updated with the information set above\n",
    "# Remember to add the df property to the end of the call so the response is returned as a DataFrame\n",
    "prices_df = alpaca.get_barset(\n",
    "    tickers,\n",
    "    timeframe,\n",
    "    start=start_date,\n",
    "    end=end_date,\n",
    "    limit=limit_rows\n",
    ").df\n",
    "\n",
    "# Display both the first and last five rows of the DataFrame\n",
    "prices_df\n",
    "\n"
   ]
  },
  {
   "cell_type": "markdown",
   "metadata": {},
   "source": [
    "#### Step 2: Run a Monte Carlo simulation of 500 samples and 30 years for the 60/40 portfolio, and then plot the results."
   ]
  },
  {
   "cell_type": "code",
   "execution_count": 188,
   "metadata": {},
   "outputs": [
    {
     "data": {
      "text/html": [
       "<div>\n",
       "<style scoped>\n",
       "    .dataframe tbody tr th:only-of-type {\n",
       "        vertical-align: middle;\n",
       "    }\n",
       "\n",
       "    .dataframe tbody tr th {\n",
       "        vertical-align: top;\n",
       "    }\n",
       "\n",
       "    .dataframe thead tr th {\n",
       "        text-align: left;\n",
       "    }\n",
       "\n",
       "    .dataframe thead tr:last-of-type th {\n",
       "        text-align: right;\n",
       "    }\n",
       "</style>\n",
       "<table border=\"1\" class=\"dataframe\">\n",
       "  <thead>\n",
       "    <tr>\n",
       "      <th></th>\n",
       "      <th colspan=\"6\" halign=\"left\">AGG</th>\n",
       "      <th colspan=\"6\" halign=\"left\">SPY</th>\n",
       "    </tr>\n",
       "    <tr>\n",
       "      <th></th>\n",
       "      <th>open</th>\n",
       "      <th>high</th>\n",
       "      <th>low</th>\n",
       "      <th>close</th>\n",
       "      <th>volume</th>\n",
       "      <th>daily_return</th>\n",
       "      <th>open</th>\n",
       "      <th>high</th>\n",
       "      <th>low</th>\n",
       "      <th>close</th>\n",
       "      <th>volume</th>\n",
       "      <th>daily_return</th>\n",
       "    </tr>\n",
       "    <tr>\n",
       "      <th>time</th>\n",
       "      <th></th>\n",
       "      <th></th>\n",
       "      <th></th>\n",
       "      <th></th>\n",
       "      <th></th>\n",
       "      <th></th>\n",
       "      <th></th>\n",
       "      <th></th>\n",
       "      <th></th>\n",
       "      <th></th>\n",
       "      <th></th>\n",
       "      <th></th>\n",
       "    </tr>\n",
       "  </thead>\n",
       "  <tbody>\n",
       "    <tr>\n",
       "      <th>2017-08-07 00:00:00-04:00</th>\n",
       "      <td>109.69</td>\n",
       "      <td>109.72</td>\n",
       "      <td>109.6066</td>\n",
       "      <td>109.6850</td>\n",
       "      <td>1425317.0</td>\n",
       "      <td>NaN</td>\n",
       "      <td>247.4900</td>\n",
       "      <td>247.87</td>\n",
       "      <td>247.37</td>\n",
       "      <td>247.850</td>\n",
       "      <td>20901988</td>\n",
       "      <td>NaN</td>\n",
       "    </tr>\n",
       "    <tr>\n",
       "      <th>2017-08-08 00:00:00-04:00</th>\n",
       "      <td>109.67</td>\n",
       "      <td>109.69</td>\n",
       "      <td>109.5000</td>\n",
       "      <td>109.5810</td>\n",
       "      <td>1998999.0</td>\n",
       "      <td>-0.000948</td>\n",
       "      <td>247.5100</td>\n",
       "      <td>248.91</td>\n",
       "      <td>246.83</td>\n",
       "      <td>247.291</td>\n",
       "      <td>44619069</td>\n",
       "      <td>-0.002255</td>\n",
       "    </tr>\n",
       "    <tr>\n",
       "      <th>2017-08-09 00:00:00-04:00</th>\n",
       "      <td>109.87</td>\n",
       "      <td>109.87</td>\n",
       "      <td>109.6600</td>\n",
       "      <td>109.6700</td>\n",
       "      <td>2069028.0</td>\n",
       "      <td>0.000812</td>\n",
       "      <td>246.4700</td>\n",
       "      <td>247.31</td>\n",
       "      <td>246.06</td>\n",
       "      <td>247.230</td>\n",
       "      <td>48543032</td>\n",
       "      <td>-0.000247</td>\n",
       "    </tr>\n",
       "    <tr>\n",
       "      <th>2017-08-10 00:00:00-04:00</th>\n",
       "      <td>109.70</td>\n",
       "      <td>109.85</td>\n",
       "      <td>109.6700</td>\n",
       "      <td>109.8053</td>\n",
       "      <td>1691677.0</td>\n",
       "      <td>0.001234</td>\n",
       "      <td>246.2800</td>\n",
       "      <td>246.44</td>\n",
       "      <td>243.70</td>\n",
       "      <td>243.790</td>\n",
       "      <td>87857827</td>\n",
       "      <td>-0.013914</td>\n",
       "    </tr>\n",
       "    <tr>\n",
       "      <th>2017-08-11 00:00:00-04:00</th>\n",
       "      <td>109.75</td>\n",
       "      <td>109.94</td>\n",
       "      <td>109.6800</td>\n",
       "      <td>109.8850</td>\n",
       "      <td>1613467.0</td>\n",
       "      <td>0.000726</td>\n",
       "      <td>244.0200</td>\n",
       "      <td>244.80</td>\n",
       "      <td>243.75</td>\n",
       "      <td>244.110</td>\n",
       "      <td>56404847</td>\n",
       "      <td>0.001313</td>\n",
       "    </tr>\n",
       "    <tr>\n",
       "      <th>...</th>\n",
       "      <td>...</td>\n",
       "      <td>...</td>\n",
       "      <td>...</td>\n",
       "      <td>...</td>\n",
       "      <td>...</td>\n",
       "      <td>...</td>\n",
       "      <td>...</td>\n",
       "      <td>...</td>\n",
       "      <td>...</td>\n",
       "      <td>...</td>\n",
       "      <td>...</td>\n",
       "      <td>...</td>\n",
       "    </tr>\n",
       "    <tr>\n",
       "      <th>2020-08-03 00:00:00-04:00</th>\n",
       "      <td>119.37</td>\n",
       "      <td>119.40</td>\n",
       "      <td>119.1903</td>\n",
       "      <td>119.4000</td>\n",
       "      <td>17837420.0</td>\n",
       "      <td>-0.001338</td>\n",
       "      <td>328.3200</td>\n",
       "      <td>329.62</td>\n",
       "      <td>327.73</td>\n",
       "      <td>328.760</td>\n",
       "      <td>71741125</td>\n",
       "      <td>0.006768</td>\n",
       "    </tr>\n",
       "    <tr>\n",
       "      <th>2020-08-04 00:00:00-04:00</th>\n",
       "      <td>119.42</td>\n",
       "      <td>119.63</td>\n",
       "      <td>119.4200</td>\n",
       "      <td>119.6300</td>\n",
       "      <td>21512268.0</td>\n",
       "      <td>0.001926</td>\n",
       "      <td>327.8600</td>\n",
       "      <td>330.06</td>\n",
       "      <td>327.86</td>\n",
       "      <td>330.030</td>\n",
       "      <td>73684427</td>\n",
       "      <td>0.003863</td>\n",
       "    </tr>\n",
       "    <tr>\n",
       "      <th>2020-08-05 00:00:00-04:00</th>\n",
       "      <td>119.39</td>\n",
       "      <td>119.49</td>\n",
       "      <td>119.3100</td>\n",
       "      <td>119.4000</td>\n",
       "      <td>34175883.0</td>\n",
       "      <td>-0.001923</td>\n",
       "      <td>331.4700</td>\n",
       "      <td>332.39</td>\n",
       "      <td>331.18</td>\n",
       "      <td>332.060</td>\n",
       "      <td>72846458</td>\n",
       "      <td>0.006151</td>\n",
       "    </tr>\n",
       "    <tr>\n",
       "      <th>2020-08-06 00:00:00-04:00</th>\n",
       "      <td>119.62</td>\n",
       "      <td>119.73</td>\n",
       "      <td>119.5300</td>\n",
       "      <td>119.5800</td>\n",
       "      <td>9009216.0</td>\n",
       "      <td>0.001508</td>\n",
       "      <td>331.4799</td>\n",
       "      <td>334.46</td>\n",
       "      <td>331.13</td>\n",
       "      <td>334.310</td>\n",
       "      <td>76900649</td>\n",
       "      <td>0.006776</td>\n",
       "    </tr>\n",
       "    <tr>\n",
       "      <th>2020-08-07 00:00:00-04:00</th>\n",
       "      <td>119.66</td>\n",
       "      <td>119.73</td>\n",
       "      <td>119.3950</td>\n",
       "      <td>119.4450</td>\n",
       "      <td>8830420.0</td>\n",
       "      <td>-0.001129</td>\n",
       "      <td>333.2800</td>\n",
       "      <td>334.88</td>\n",
       "      <td>332.30</td>\n",
       "      <td>334.550</td>\n",
       "      <td>98710236</td>\n",
       "      <td>0.000718</td>\n",
       "    </tr>\n",
       "  </tbody>\n",
       "</table>\n",
       "<p>757 rows × 12 columns</p>\n",
       "</div>"
      ],
      "text/plain": [
       "                              AGG                                          \\\n",
       "                             open    high       low     close      volume   \n",
       "time                                                                        \n",
       "2017-08-07 00:00:00-04:00  109.69  109.72  109.6066  109.6850   1425317.0   \n",
       "2017-08-08 00:00:00-04:00  109.67  109.69  109.5000  109.5810   1998999.0   \n",
       "2017-08-09 00:00:00-04:00  109.87  109.87  109.6600  109.6700   2069028.0   \n",
       "2017-08-10 00:00:00-04:00  109.70  109.85  109.6700  109.8053   1691677.0   \n",
       "2017-08-11 00:00:00-04:00  109.75  109.94  109.6800  109.8850   1613467.0   \n",
       "...                           ...     ...       ...       ...         ...   \n",
       "2020-08-03 00:00:00-04:00  119.37  119.40  119.1903  119.4000  17837420.0   \n",
       "2020-08-04 00:00:00-04:00  119.42  119.63  119.4200  119.6300  21512268.0   \n",
       "2020-08-05 00:00:00-04:00  119.39  119.49  119.3100  119.4000  34175883.0   \n",
       "2020-08-06 00:00:00-04:00  119.62  119.73  119.5300  119.5800   9009216.0   \n",
       "2020-08-07 00:00:00-04:00  119.66  119.73  119.3950  119.4450   8830420.0   \n",
       "\n",
       "                                             SPY                           \\\n",
       "                          daily_return      open    high     low    close   \n",
       "time                                                                        \n",
       "2017-08-07 00:00:00-04:00          NaN  247.4900  247.87  247.37  247.850   \n",
       "2017-08-08 00:00:00-04:00    -0.000948  247.5100  248.91  246.83  247.291   \n",
       "2017-08-09 00:00:00-04:00     0.000812  246.4700  247.31  246.06  247.230   \n",
       "2017-08-10 00:00:00-04:00     0.001234  246.2800  246.44  243.70  243.790   \n",
       "2017-08-11 00:00:00-04:00     0.000726  244.0200  244.80  243.75  244.110   \n",
       "...                                ...       ...     ...     ...      ...   \n",
       "2020-08-03 00:00:00-04:00    -0.001338  328.3200  329.62  327.73  328.760   \n",
       "2020-08-04 00:00:00-04:00     0.001926  327.8600  330.06  327.86  330.030   \n",
       "2020-08-05 00:00:00-04:00    -0.001923  331.4700  332.39  331.18  332.060   \n",
       "2020-08-06 00:00:00-04:00     0.001508  331.4799  334.46  331.13  334.310   \n",
       "2020-08-07 00:00:00-04:00    -0.001129  333.2800  334.88  332.30  334.550   \n",
       "\n",
       "                                                  \n",
       "                             volume daily_return  \n",
       "time                                              \n",
       "2017-08-07 00:00:00-04:00  20901988          NaN  \n",
       "2017-08-08 00:00:00-04:00  44619069    -0.002255  \n",
       "2017-08-09 00:00:00-04:00  48543032    -0.000247  \n",
       "2017-08-10 00:00:00-04:00  87857827    -0.013914  \n",
       "2017-08-11 00:00:00-04:00  56404847     0.001313  \n",
       "...                             ...          ...  \n",
       "2020-08-03 00:00:00-04:00  71741125     0.006768  \n",
       "2020-08-04 00:00:00-04:00  73684427     0.003863  \n",
       "2020-08-05 00:00:00-04:00  72846458     0.006151  \n",
       "2020-08-06 00:00:00-04:00  76900649     0.006776  \n",
       "2020-08-07 00:00:00-04:00  98710236     0.000718  \n",
       "\n",
       "[757 rows x 12 columns]"
      ]
     },
     "execution_count": 188,
     "metadata": {},
     "output_type": "execute_result"
    }
   ],
   "source": [
    "# Configure the Monte Carlo simulation to forecast 30 years cumulative returns\n",
    "# The weights should be split 40% to AGG and 60% to SPY.\n",
    "# Run 500 samples.\n",
    "MC_4060_weight = MCSimulation(\n",
    "    portfolio_data = prices_df,\n",
    "    weights = [.60, 0.40],\n",
    "    num_simulation = 500,\n",
    "    num_trading_days = 252*30\n",
    ")\n",
    "\n",
    "# Review the simulation input data\n",
    "MC_4060_weight.portfolio_data"
   ]
  },
  {
   "cell_type": "code",
   "execution_count": 189,
   "metadata": {},
   "outputs": [
    {
     "name": "stdout",
     "output_type": "stream",
     "text": [
      "Running Monte Carlo simulation number 0.\n",
      "Running Monte Carlo simulation number 10.\n",
      "Running Monte Carlo simulation number 20.\n",
      "Running Monte Carlo simulation number 30.\n",
      "Running Monte Carlo simulation number 40.\n",
      "Running Monte Carlo simulation number 50.\n",
      "Running Monte Carlo simulation number 60.\n",
      "Running Monte Carlo simulation number 70.\n",
      "Running Monte Carlo simulation number 80.\n",
      "Running Monte Carlo simulation number 90.\n",
      "Running Monte Carlo simulation number 100.\n"
     ]
    },
    {
     "name": "stderr",
     "output_type": "stream",
     "text": [
      "/Users/yusun/Desktop/Challenges/05_Financial_Planners/MCForecastTools.py:117: PerformanceWarning: DataFrame is highly fragmented.  This is usually the result of calling `frame.insert` many times, which has poor performance.  Consider joining all columns at once using pd.concat(axis=1) instead.  To get a de-fragmented frame, use `newframe = frame.copy()`\n",
      "  portfolio_cumulative_returns[n] = (1 + sim_df.fillna(0)).cumprod()\n"
     ]
    },
    {
     "name": "stdout",
     "output_type": "stream",
     "text": [
      "Running Monte Carlo simulation number 110.\n",
      "Running Monte Carlo simulation number 120.\n",
      "Running Monte Carlo simulation number 130.\n",
      "Running Monte Carlo simulation number 140.\n",
      "Running Monte Carlo simulation number 150.\n",
      "Running Monte Carlo simulation number 160.\n",
      "Running Monte Carlo simulation number 170.\n",
      "Running Monte Carlo simulation number 180.\n",
      "Running Monte Carlo simulation number 190.\n",
      "Running Monte Carlo simulation number 200.\n",
      "Running Monte Carlo simulation number 210.\n",
      "Running Monte Carlo simulation number 220.\n",
      "Running Monte Carlo simulation number 230.\n",
      "Running Monte Carlo simulation number 240.\n",
      "Running Monte Carlo simulation number 250.\n",
      "Running Monte Carlo simulation number 260.\n",
      "Running Monte Carlo simulation number 270.\n",
      "Running Monte Carlo simulation number 280.\n",
      "Running Monte Carlo simulation number 290.\n",
      "Running Monte Carlo simulation number 300.\n",
      "Running Monte Carlo simulation number 310.\n",
      "Running Monte Carlo simulation number 320.\n",
      "Running Monte Carlo simulation number 330.\n",
      "Running Monte Carlo simulation number 340.\n",
      "Running Monte Carlo simulation number 350.\n",
      "Running Monte Carlo simulation number 360.\n",
      "Running Monte Carlo simulation number 370.\n",
      "Running Monte Carlo simulation number 380.\n",
      "Running Monte Carlo simulation number 390.\n",
      "Running Monte Carlo simulation number 400.\n",
      "Running Monte Carlo simulation number 410.\n",
      "Running Monte Carlo simulation number 420.\n",
      "Running Monte Carlo simulation number 430.\n",
      "Running Monte Carlo simulation number 440.\n",
      "Running Monte Carlo simulation number 450.\n",
      "Running Monte Carlo simulation number 460.\n",
      "Running Monte Carlo simulation number 470.\n",
      "Running Monte Carlo simulation number 480.\n",
      "Running Monte Carlo simulation number 490.\n"
     ]
    },
    {
     "data": {
      "text/html": [
       "<div>\n",
       "<style scoped>\n",
       "    .dataframe tbody tr th:only-of-type {\n",
       "        vertical-align: middle;\n",
       "    }\n",
       "\n",
       "    .dataframe tbody tr th {\n",
       "        vertical-align: top;\n",
       "    }\n",
       "\n",
       "    .dataframe thead th {\n",
       "        text-align: right;\n",
       "    }\n",
       "</style>\n",
       "<table border=\"1\" class=\"dataframe\">\n",
       "  <thead>\n",
       "    <tr style=\"text-align: right;\">\n",
       "      <th></th>\n",
       "      <th>0</th>\n",
       "      <th>1</th>\n",
       "      <th>2</th>\n",
       "      <th>3</th>\n",
       "      <th>4</th>\n",
       "      <th>5</th>\n",
       "      <th>6</th>\n",
       "      <th>7</th>\n",
       "      <th>8</th>\n",
       "      <th>9</th>\n",
       "      <th>...</th>\n",
       "      <th>490</th>\n",
       "      <th>491</th>\n",
       "      <th>492</th>\n",
       "      <th>493</th>\n",
       "      <th>494</th>\n",
       "      <th>495</th>\n",
       "      <th>496</th>\n",
       "      <th>497</th>\n",
       "      <th>498</th>\n",
       "      <th>499</th>\n",
       "    </tr>\n",
       "  </thead>\n",
       "  <tbody>\n",
       "    <tr>\n",
       "      <th>0</th>\n",
       "      <td>1.000000</td>\n",
       "      <td>1.000000</td>\n",
       "      <td>1.000000</td>\n",
       "      <td>1.000000</td>\n",
       "      <td>1.000000</td>\n",
       "      <td>1.000000</td>\n",
       "      <td>1.000000</td>\n",
       "      <td>1.000000</td>\n",
       "      <td>1.000000</td>\n",
       "      <td>1.000000</td>\n",
       "      <td>...</td>\n",
       "      <td>1.000000</td>\n",
       "      <td>1.000000</td>\n",
       "      <td>1.000000</td>\n",
       "      <td>1.000000</td>\n",
       "      <td>1.000000</td>\n",
       "      <td>1.000000</td>\n",
       "      <td>1.000000</td>\n",
       "      <td>1.000000</td>\n",
       "      <td>1.000000</td>\n",
       "      <td>1.000000</td>\n",
       "    </tr>\n",
       "    <tr>\n",
       "      <th>1</th>\n",
       "      <td>0.994194</td>\n",
       "      <td>0.999637</td>\n",
       "      <td>0.994744</td>\n",
       "      <td>0.998569</td>\n",
       "      <td>0.990961</td>\n",
       "      <td>1.008168</td>\n",
       "      <td>1.011402</td>\n",
       "      <td>1.003425</td>\n",
       "      <td>0.995358</td>\n",
       "      <td>0.994138</td>\n",
       "      <td>...</td>\n",
       "      <td>0.991708</td>\n",
       "      <td>0.994064</td>\n",
       "      <td>1.009348</td>\n",
       "      <td>1.001475</td>\n",
       "      <td>1.008919</td>\n",
       "      <td>1.006500</td>\n",
       "      <td>1.004344</td>\n",
       "      <td>1.005205</td>\n",
       "      <td>1.018609</td>\n",
       "      <td>0.995318</td>\n",
       "    </tr>\n",
       "    <tr>\n",
       "      <th>2</th>\n",
       "      <td>0.987078</td>\n",
       "      <td>1.014212</td>\n",
       "      <td>1.002699</td>\n",
       "      <td>0.998761</td>\n",
       "      <td>0.997199</td>\n",
       "      <td>1.006044</td>\n",
       "      <td>1.003290</td>\n",
       "      <td>1.009665</td>\n",
       "      <td>0.997980</td>\n",
       "      <td>0.993838</td>\n",
       "      <td>...</td>\n",
       "      <td>0.990152</td>\n",
       "      <td>1.004280</td>\n",
       "      <td>1.016205</td>\n",
       "      <td>1.000152</td>\n",
       "      <td>1.011258</td>\n",
       "      <td>1.014421</td>\n",
       "      <td>1.010314</td>\n",
       "      <td>0.995627</td>\n",
       "      <td>1.023400</td>\n",
       "      <td>0.994937</td>\n",
       "    </tr>\n",
       "    <tr>\n",
       "      <th>3</th>\n",
       "      <td>0.991872</td>\n",
       "      <td>1.020151</td>\n",
       "      <td>0.999883</td>\n",
       "      <td>0.994981</td>\n",
       "      <td>1.004679</td>\n",
       "      <td>1.000591</td>\n",
       "      <td>1.007817</td>\n",
       "      <td>1.011791</td>\n",
       "      <td>0.998805</td>\n",
       "      <td>0.996547</td>\n",
       "      <td>...</td>\n",
       "      <td>0.994673</td>\n",
       "      <td>1.007839</td>\n",
       "      <td>1.019823</td>\n",
       "      <td>1.004445</td>\n",
       "      <td>1.019304</td>\n",
       "      <td>1.012432</td>\n",
       "      <td>1.001205</td>\n",
       "      <td>0.992523</td>\n",
       "      <td>1.019024</td>\n",
       "      <td>0.997328</td>\n",
       "    </tr>\n",
       "    <tr>\n",
       "      <th>4</th>\n",
       "      <td>0.990611</td>\n",
       "      <td>1.032605</td>\n",
       "      <td>0.997906</td>\n",
       "      <td>0.988676</td>\n",
       "      <td>0.999295</td>\n",
       "      <td>1.012731</td>\n",
       "      <td>1.004601</td>\n",
       "      <td>1.018833</td>\n",
       "      <td>0.990713</td>\n",
       "      <td>0.995290</td>\n",
       "      <td>...</td>\n",
       "      <td>1.004467</td>\n",
       "      <td>1.008696</td>\n",
       "      <td>1.022028</td>\n",
       "      <td>1.019818</td>\n",
       "      <td>1.030813</td>\n",
       "      <td>1.007614</td>\n",
       "      <td>0.999177</td>\n",
       "      <td>0.987560</td>\n",
       "      <td>1.009487</td>\n",
       "      <td>0.992733</td>\n",
       "    </tr>\n",
       "    <tr>\n",
       "      <th>...</th>\n",
       "      <td>...</td>\n",
       "      <td>...</td>\n",
       "      <td>...</td>\n",
       "      <td>...</td>\n",
       "      <td>...</td>\n",
       "      <td>...</td>\n",
       "      <td>...</td>\n",
       "      <td>...</td>\n",
       "      <td>...</td>\n",
       "      <td>...</td>\n",
       "      <td>...</td>\n",
       "      <td>...</td>\n",
       "      <td>...</td>\n",
       "      <td>...</td>\n",
       "      <td>...</td>\n",
       "      <td>...</td>\n",
       "      <td>...</td>\n",
       "      <td>...</td>\n",
       "      <td>...</td>\n",
       "      <td>...</td>\n",
       "      <td>...</td>\n",
       "    </tr>\n",
       "    <tr>\n",
       "      <th>7556</th>\n",
       "      <td>19.405861</td>\n",
       "      <td>6.661331</td>\n",
       "      <td>7.728497</td>\n",
       "      <td>2.388371</td>\n",
       "      <td>2.952379</td>\n",
       "      <td>5.653341</td>\n",
       "      <td>3.738307</td>\n",
       "      <td>4.089284</td>\n",
       "      <td>4.223942</td>\n",
       "      <td>3.045971</td>\n",
       "      <td>...</td>\n",
       "      <td>5.626614</td>\n",
       "      <td>3.923721</td>\n",
       "      <td>5.482731</td>\n",
       "      <td>12.095278</td>\n",
       "      <td>13.480697</td>\n",
       "      <td>10.264080</td>\n",
       "      <td>2.624167</td>\n",
       "      <td>5.552274</td>\n",
       "      <td>10.683257</td>\n",
       "      <td>3.712989</td>\n",
       "    </tr>\n",
       "    <tr>\n",
       "      <th>7557</th>\n",
       "      <td>19.145877</td>\n",
       "      <td>6.704799</td>\n",
       "      <td>7.741423</td>\n",
       "      <td>2.388833</td>\n",
       "      <td>2.947760</td>\n",
       "      <td>5.648266</td>\n",
       "      <td>3.721970</td>\n",
       "      <td>4.106008</td>\n",
       "      <td>4.218148</td>\n",
       "      <td>3.035490</td>\n",
       "      <td>...</td>\n",
       "      <td>5.614968</td>\n",
       "      <td>3.912904</td>\n",
       "      <td>5.496243</td>\n",
       "      <td>12.034476</td>\n",
       "      <td>13.517361</td>\n",
       "      <td>10.309848</td>\n",
       "      <td>2.649092</td>\n",
       "      <td>5.524331</td>\n",
       "      <td>10.783468</td>\n",
       "      <td>3.722335</td>\n",
       "    </tr>\n",
       "    <tr>\n",
       "      <th>7558</th>\n",
       "      <td>19.116790</td>\n",
       "      <td>6.712725</td>\n",
       "      <td>7.774657</td>\n",
       "      <td>2.411931</td>\n",
       "      <td>2.957688</td>\n",
       "      <td>5.611237</td>\n",
       "      <td>3.715618</td>\n",
       "      <td>4.088530</td>\n",
       "      <td>4.242215</td>\n",
       "      <td>3.031959</td>\n",
       "      <td>...</td>\n",
       "      <td>5.614340</td>\n",
       "      <td>3.884139</td>\n",
       "      <td>5.518634</td>\n",
       "      <td>12.041236</td>\n",
       "      <td>13.494824</td>\n",
       "      <td>10.435241</td>\n",
       "      <td>2.658736</td>\n",
       "      <td>5.488203</td>\n",
       "      <td>10.756645</td>\n",
       "      <td>3.764257</td>\n",
       "    </tr>\n",
       "    <tr>\n",
       "      <th>7559</th>\n",
       "      <td>19.241968</td>\n",
       "      <td>6.597848</td>\n",
       "      <td>7.856528</td>\n",
       "      <td>2.425170</td>\n",
       "      <td>2.954829</td>\n",
       "      <td>5.634824</td>\n",
       "      <td>3.719095</td>\n",
       "      <td>4.089585</td>\n",
       "      <td>4.220430</td>\n",
       "      <td>3.045800</td>\n",
       "      <td>...</td>\n",
       "      <td>5.577123</td>\n",
       "      <td>3.859774</td>\n",
       "      <td>5.493080</td>\n",
       "      <td>12.071407</td>\n",
       "      <td>13.501620</td>\n",
       "      <td>10.470904</td>\n",
       "      <td>2.673514</td>\n",
       "      <td>5.497382</td>\n",
       "      <td>10.662038</td>\n",
       "      <td>3.758748</td>\n",
       "    </tr>\n",
       "    <tr>\n",
       "      <th>7560</th>\n",
       "      <td>19.016606</td>\n",
       "      <td>6.666055</td>\n",
       "      <td>7.734836</td>\n",
       "      <td>2.431544</td>\n",
       "      <td>2.951209</td>\n",
       "      <td>5.632280</td>\n",
       "      <td>3.756886</td>\n",
       "      <td>4.132582</td>\n",
       "      <td>4.187088</td>\n",
       "      <td>3.031458</td>\n",
       "      <td>...</td>\n",
       "      <td>5.516843</td>\n",
       "      <td>3.860264</td>\n",
       "      <td>5.476882</td>\n",
       "      <td>12.120698</td>\n",
       "      <td>13.523904</td>\n",
       "      <td>10.385656</td>\n",
       "      <td>2.667336</td>\n",
       "      <td>5.470176</td>\n",
       "      <td>10.761806</td>\n",
       "      <td>3.734046</td>\n",
       "    </tr>\n",
       "  </tbody>\n",
       "</table>\n",
       "<p>7561 rows × 500 columns</p>\n",
       "</div>"
      ],
      "text/plain": [
       "            0         1         2         3         4         5         6    \\\n",
       "0      1.000000  1.000000  1.000000  1.000000  1.000000  1.000000  1.000000   \n",
       "1      0.994194  0.999637  0.994744  0.998569  0.990961  1.008168  1.011402   \n",
       "2      0.987078  1.014212  1.002699  0.998761  0.997199  1.006044  1.003290   \n",
       "3      0.991872  1.020151  0.999883  0.994981  1.004679  1.000591  1.007817   \n",
       "4      0.990611  1.032605  0.997906  0.988676  0.999295  1.012731  1.004601   \n",
       "...         ...       ...       ...       ...       ...       ...       ...   \n",
       "7556  19.405861  6.661331  7.728497  2.388371  2.952379  5.653341  3.738307   \n",
       "7557  19.145877  6.704799  7.741423  2.388833  2.947760  5.648266  3.721970   \n",
       "7558  19.116790  6.712725  7.774657  2.411931  2.957688  5.611237  3.715618   \n",
       "7559  19.241968  6.597848  7.856528  2.425170  2.954829  5.634824  3.719095   \n",
       "7560  19.016606  6.666055  7.734836  2.431544  2.951209  5.632280  3.756886   \n",
       "\n",
       "           7         8         9    ...       490       491       492  \\\n",
       "0     1.000000  1.000000  1.000000  ...  1.000000  1.000000  1.000000   \n",
       "1     1.003425  0.995358  0.994138  ...  0.991708  0.994064  1.009348   \n",
       "2     1.009665  0.997980  0.993838  ...  0.990152  1.004280  1.016205   \n",
       "3     1.011791  0.998805  0.996547  ...  0.994673  1.007839  1.019823   \n",
       "4     1.018833  0.990713  0.995290  ...  1.004467  1.008696  1.022028   \n",
       "...        ...       ...       ...  ...       ...       ...       ...   \n",
       "7556  4.089284  4.223942  3.045971  ...  5.626614  3.923721  5.482731   \n",
       "7557  4.106008  4.218148  3.035490  ...  5.614968  3.912904  5.496243   \n",
       "7558  4.088530  4.242215  3.031959  ...  5.614340  3.884139  5.518634   \n",
       "7559  4.089585  4.220430  3.045800  ...  5.577123  3.859774  5.493080   \n",
       "7560  4.132582  4.187088  3.031458  ...  5.516843  3.860264  5.476882   \n",
       "\n",
       "            493        494        495       496       497        498       499  \n",
       "0      1.000000   1.000000   1.000000  1.000000  1.000000   1.000000  1.000000  \n",
       "1      1.001475   1.008919   1.006500  1.004344  1.005205   1.018609  0.995318  \n",
       "2      1.000152   1.011258   1.014421  1.010314  0.995627   1.023400  0.994937  \n",
       "3      1.004445   1.019304   1.012432  1.001205  0.992523   1.019024  0.997328  \n",
       "4      1.019818   1.030813   1.007614  0.999177  0.987560   1.009487  0.992733  \n",
       "...         ...        ...        ...       ...       ...        ...       ...  \n",
       "7556  12.095278  13.480697  10.264080  2.624167  5.552274  10.683257  3.712989  \n",
       "7557  12.034476  13.517361  10.309848  2.649092  5.524331  10.783468  3.722335  \n",
       "7558  12.041236  13.494824  10.435241  2.658736  5.488203  10.756645  3.764257  \n",
       "7559  12.071407  13.501620  10.470904  2.673514  5.497382  10.662038  3.758748  \n",
       "7560  12.120698  13.523904  10.385656  2.667336  5.470176  10.761806  3.734046  \n",
       "\n",
       "[7561 rows x 500 columns]"
      ]
     },
     "execution_count": 189,
     "metadata": {},
     "output_type": "execute_result"
    }
   ],
   "source": [
    "# Run the Monte Carlo simulation to forecast 30 years cumulative returns\n",
    "MC_4060_weight.calc_cumulative_return()"
   ]
  },
  {
   "cell_type": "code",
   "execution_count": 190,
   "metadata": {},
   "outputs": [
    {
     "data": {
      "text/plain": [
       "<AxesSubplot:title={'center':'500 Simulations of Cumulative Portfolio Return Trajectories Over the Next 7560 Trading Days.'}>"
      ]
     },
     "execution_count": 190,
     "metadata": {},
     "output_type": "execute_result"
    },
    {
     "data": {
      "image/png": "[encoded data removed]",
      "text/plain": [
       "<Figure size 432x288 with 1 Axes>"
      ]
     },
     "metadata": {
      "needs_background": "light"
     },
     "output_type": "display_data"
    }
   ],
   "source": [
    "# Visualize the 30-year Monte Carlo simulation by creating an\n",
    "# overlay line plot\n",
    "MC_4060_weight.plot_simulation()"
   ]
  },
  {
   "cell_type": "markdown",
   "metadata": {},
   "source": [
    "#### Step 3: Plot the probability distribution of the Monte Carlo simulation."
   ]
  },
  {
   "cell_type": "code",
   "execution_count": 191,
   "metadata": {},
   "outputs": [
    {
     "data": {
      "text/plain": [
       "<AxesSubplot:title={'center':'Distribution of Final Cumuluative Returns Across All 500 Simulations'}, ylabel='Frequency'>"
      ]
     },
     "execution_count": 191,
     "metadata": {},
     "output_type": "execute_result"
    },
    {
     "data": {
      "image/png": "[encoded data removed]",
      "text/plain": [
       "<Figure size 432x288 with 1 Axes>"
      ]
     },
     "metadata": {
      "needs_background": "light"
     },
     "output_type": "display_data"
    }
   ],
   "source": [
    "# Visualize the probability distribution of the 30-year Monte Carlo simulation \n",
    "# by plotting a histogram\n",
    "MC_4060_weight.plot_distribution()"
   ]
  },
  {
   "cell_type": "markdown",
   "metadata": {},
   "source": [
    "#### Step 4: Generate the summary statistics for the Monte Carlo simulation."
   ]
  },
  {
   "cell_type": "code",
   "execution_count": 68,
   "metadata": {},
   "outputs": [
    {
     "name": "stdout",
     "output_type": "stream",
     "text": [
      "count           500.000000\n",
      "mean              8.280586\n",
      "std               4.464302\n",
      "min               1.811495\n",
      "25%               5.140040\n",
      "50%               7.485741\n",
      "75%              10.378984\n",
      "max              32.526116\n",
      "95% CI Lower      2.446926\n",
      "95% CI Upper     18.328329\n",
      "Name: 7560, dtype: float64\n"
     ]
    }
   ],
   "source": [
    "# Generate summary statistics from the 30-year Monte Carlo simulation results\n",
    "# Save the results as a variable\n",
    "weight_table = MC_4060_weight.summarize_cumulative_return()\n",
    "\n",
    "# Review the 30-year Monte Carlo summary statistics\n",
    "print(weight_table)"
   ]
  },
  {
   "cell_type": "markdown",
   "metadata": {},
   "source": [
    "### Analyze the Retirement Portfolio Forecasts\n",
    "\n",
    "Using the current value of only the stock and bond portion of the member's portfolio and the summary statistics that you generated from the Monte Carlo simulation, answer the following question in your Jupyter notebook:\n",
    "\n",
    "-  What are the lower and upper bounds for the expected value of the portfolio with a 95% confidence interval?\n"
   ]
  },
  {
   "cell_type": "code",
   "execution_count": 90,
   "metadata": {},
   "outputs": [
    {
     "data": {
      "text/plain": [
       "70640.1"
      ]
     },
     "execution_count": 90,
     "metadata": {},
     "output_type": "execute_result"
    }
   ],
   "source": [
    "# Print the current balance of the stock and bond portion of the members portfolio\n",
    "total_stocks_bonds"
   ]
  },
  {
   "cell_type": "code",
   "execution_count": 91,
   "metadata": {},
   "outputs": [
    {
     "name": "stdout",
     "output_type": "stream",
     "text": [
      "$172851\n",
      "$1294715\n"
     ]
    }
   ],
   "source": [
    "# Use the lower and upper `95%` confidence intervals to calculate the range of the possible outcomes for the current stock/bond portfolio\n",
    "ci_lower_thirty_cumulative_return = round(weight_table[8]*total_stocks_bonds)\n",
    "ci_upper_thirty_cumulative_return = round(weight_table[9]*total_stocks_bonds)\n",
    "\n",
    "# Print the result of your calculations\n",
    "print(f\"${ci_lower_thirty_cumulative_return}\")\n",
    "print(f\"${ci_upper_thirty_cumulative_return}\")"
   ]
  },
  {
   "cell_type": "markdown",
   "metadata": {},
   "source": [
    "### Forecast Cumulative Returns in 10 Years\n",
    "\n",
    "The CTO of the credit union is impressed with your work on these planning tools but wonders if 30 years is a long time to wait until retirement. So, your next task is to adjust the retirement portfolio and run a new Monte Carlo simulation to find out if the changes will allow members to retire earlier.\n",
    "\n",
    "For this new Monte Carlo simulation, do the following: \n",
    "\n",
    "- Forecast the cumulative returns for 10 years from now. Because of the shortened investment horizon (30 years to 10 years), the portfolio needs to invest more heavily in the riskier asset&mdash;that is, stock&mdash;to help accumulate wealth for retirement. \n",
    "\n",
    "- Adjust the weights of the retirement portfolio so that the composition for the Monte Carlo simulation consists of 20% bonds and 80% stocks. \n",
    "\n",
    "- Run the simulation over 500 samples, and use the same data that the API call to Alpaca generated.\n",
    "\n",
    "- Based on the new Monte Carlo simulation, answer the following questions in your Jupyter notebook:\n",
    "\n",
    "    - Using the current value of only the stock and bond portion of the member's portfolio and the summary statistics that you generated from the new Monte Carlo simulation, what are the lower and upper bounds for the expected value of the portfolio (with the new weights) with a 95% confidence interval?\n",
    "\n",
    "    - Will weighting the portfolio more heavily toward stocks allow the credit union members to retire after only 10 years?\n"
   ]
  },
  {
   "cell_type": "code",
   "execution_count": 177,
   "metadata": {},
   "outputs": [
    {
     "data": {
      "text/html": [
       "<div>\n",
       "<style scoped>\n",
       "    .dataframe tbody tr th:only-of-type {\n",
       "        vertical-align: middle;\n",
       "    }\n",
       "\n",
       "    .dataframe tbody tr th {\n",
       "        vertical-align: top;\n",
       "    }\n",
       "\n",
       "    .dataframe thead tr th {\n",
       "        text-align: left;\n",
       "    }\n",
       "\n",
       "    .dataframe thead tr:last-of-type th {\n",
       "        text-align: right;\n",
       "    }\n",
       "</style>\n",
       "<table border=\"1\" class=\"dataframe\">\n",
       "  <thead>\n",
       "    <tr>\n",
       "      <th></th>\n",
       "      <th colspan=\"6\" halign=\"left\">AGG</th>\n",
       "      <th colspan=\"6\" halign=\"left\">SPY</th>\n",
       "    </tr>\n",
       "    <tr>\n",
       "      <th></th>\n",
       "      <th>open</th>\n",
       "      <th>high</th>\n",
       "      <th>low</th>\n",
       "      <th>close</th>\n",
       "      <th>volume</th>\n",
       "      <th>daily_return</th>\n",
       "      <th>open</th>\n",
       "      <th>high</th>\n",
       "      <th>low</th>\n",
       "      <th>close</th>\n",
       "      <th>volume</th>\n",
       "      <th>daily_return</th>\n",
       "    </tr>\n",
       "    <tr>\n",
       "      <th>time</th>\n",
       "      <th></th>\n",
       "      <th></th>\n",
       "      <th></th>\n",
       "      <th></th>\n",
       "      <th></th>\n",
       "      <th></th>\n",
       "      <th></th>\n",
       "      <th></th>\n",
       "      <th></th>\n",
       "      <th></th>\n",
       "      <th></th>\n",
       "      <th></th>\n",
       "    </tr>\n",
       "  </thead>\n",
       "  <tbody>\n",
       "    <tr>\n",
       "      <th>2017-08-07 00:00:00-04:00</th>\n",
       "      <td>109.69</td>\n",
       "      <td>109.72</td>\n",
       "      <td>109.6066</td>\n",
       "      <td>109.6850</td>\n",
       "      <td>1425317.0</td>\n",
       "      <td>NaN</td>\n",
       "      <td>247.4900</td>\n",
       "      <td>247.87</td>\n",
       "      <td>247.37</td>\n",
       "      <td>247.850</td>\n",
       "      <td>20901988</td>\n",
       "      <td>NaN</td>\n",
       "    </tr>\n",
       "    <tr>\n",
       "      <th>2017-08-08 00:00:00-04:00</th>\n",
       "      <td>109.67</td>\n",
       "      <td>109.69</td>\n",
       "      <td>109.5000</td>\n",
       "      <td>109.5810</td>\n",
       "      <td>1998999.0</td>\n",
       "      <td>-0.000948</td>\n",
       "      <td>247.5100</td>\n",
       "      <td>248.91</td>\n",
       "      <td>246.83</td>\n",
       "      <td>247.291</td>\n",
       "      <td>44619069</td>\n",
       "      <td>-0.002255</td>\n",
       "    </tr>\n",
       "    <tr>\n",
       "      <th>2017-08-09 00:00:00-04:00</th>\n",
       "      <td>109.87</td>\n",
       "      <td>109.87</td>\n",
       "      <td>109.6600</td>\n",
       "      <td>109.6700</td>\n",
       "      <td>2069028.0</td>\n",
       "      <td>0.000812</td>\n",
       "      <td>246.4700</td>\n",
       "      <td>247.31</td>\n",
       "      <td>246.06</td>\n",
       "      <td>247.230</td>\n",
       "      <td>48543032</td>\n",
       "      <td>-0.000247</td>\n",
       "    </tr>\n",
       "    <tr>\n",
       "      <th>2017-08-10 00:00:00-04:00</th>\n",
       "      <td>109.70</td>\n",
       "      <td>109.85</td>\n",
       "      <td>109.6700</td>\n",
       "      <td>109.8053</td>\n",
       "      <td>1691677.0</td>\n",
       "      <td>0.001234</td>\n",
       "      <td>246.2800</td>\n",
       "      <td>246.44</td>\n",
       "      <td>243.70</td>\n",
       "      <td>243.790</td>\n",
       "      <td>87857827</td>\n",
       "      <td>-0.013914</td>\n",
       "    </tr>\n",
       "    <tr>\n",
       "      <th>2017-08-11 00:00:00-04:00</th>\n",
       "      <td>109.75</td>\n",
       "      <td>109.94</td>\n",
       "      <td>109.6800</td>\n",
       "      <td>109.8850</td>\n",
       "      <td>1613467.0</td>\n",
       "      <td>0.000726</td>\n",
       "      <td>244.0200</td>\n",
       "      <td>244.80</td>\n",
       "      <td>243.75</td>\n",
       "      <td>244.110</td>\n",
       "      <td>56404847</td>\n",
       "      <td>0.001313</td>\n",
       "    </tr>\n",
       "    <tr>\n",
       "      <th>...</th>\n",
       "      <td>...</td>\n",
       "      <td>...</td>\n",
       "      <td>...</td>\n",
       "      <td>...</td>\n",
       "      <td>...</td>\n",
       "      <td>...</td>\n",
       "      <td>...</td>\n",
       "      <td>...</td>\n",
       "      <td>...</td>\n",
       "      <td>...</td>\n",
       "      <td>...</td>\n",
       "      <td>...</td>\n",
       "    </tr>\n",
       "    <tr>\n",
       "      <th>2020-08-03 00:00:00-04:00</th>\n",
       "      <td>119.37</td>\n",
       "      <td>119.40</td>\n",
       "      <td>119.1903</td>\n",
       "      <td>119.4000</td>\n",
       "      <td>17837420.0</td>\n",
       "      <td>-0.001338</td>\n",
       "      <td>328.3200</td>\n",
       "      <td>329.62</td>\n",
       "      <td>327.73</td>\n",
       "      <td>328.760</td>\n",
       "      <td>71741125</td>\n",
       "      <td>0.006768</td>\n",
       "    </tr>\n",
       "    <tr>\n",
       "      <th>2020-08-04 00:00:00-04:00</th>\n",
       "      <td>119.42</td>\n",
       "      <td>119.63</td>\n",
       "      <td>119.4200</td>\n",
       "      <td>119.6300</td>\n",
       "      <td>21512268.0</td>\n",
       "      <td>0.001926</td>\n",
       "      <td>327.8600</td>\n",
       "      <td>330.06</td>\n",
       "      <td>327.86</td>\n",
       "      <td>330.030</td>\n",
       "      <td>73684427</td>\n",
       "      <td>0.003863</td>\n",
       "    </tr>\n",
       "    <tr>\n",
       "      <th>2020-08-05 00:00:00-04:00</th>\n",
       "      <td>119.39</td>\n",
       "      <td>119.49</td>\n",
       "      <td>119.3100</td>\n",
       "      <td>119.4000</td>\n",
       "      <td>34175883.0</td>\n",
       "      <td>-0.001923</td>\n",
       "      <td>331.4700</td>\n",
       "      <td>332.39</td>\n",
       "      <td>331.18</td>\n",
       "      <td>332.060</td>\n",
       "      <td>72846458</td>\n",
       "      <td>0.006151</td>\n",
       "    </tr>\n",
       "    <tr>\n",
       "      <th>2020-08-06 00:00:00-04:00</th>\n",
       "      <td>119.62</td>\n",
       "      <td>119.73</td>\n",
       "      <td>119.5300</td>\n",
       "      <td>119.5800</td>\n",
       "      <td>9009216.0</td>\n",
       "      <td>0.001508</td>\n",
       "      <td>331.4799</td>\n",
       "      <td>334.46</td>\n",
       "      <td>331.13</td>\n",
       "      <td>334.310</td>\n",
       "      <td>76900649</td>\n",
       "      <td>0.006776</td>\n",
       "    </tr>\n",
       "    <tr>\n",
       "      <th>2020-08-07 00:00:00-04:00</th>\n",
       "      <td>119.66</td>\n",
       "      <td>119.73</td>\n",
       "      <td>119.3950</td>\n",
       "      <td>119.4450</td>\n",
       "      <td>8830420.0</td>\n",
       "      <td>-0.001129</td>\n",
       "      <td>333.2800</td>\n",
       "      <td>334.88</td>\n",
       "      <td>332.30</td>\n",
       "      <td>334.550</td>\n",
       "      <td>98710236</td>\n",
       "      <td>0.000718</td>\n",
       "    </tr>\n",
       "  </tbody>\n",
       "</table>\n",
       "<p>757 rows × 12 columns</p>\n",
       "</div>"
      ],
      "text/plain": [
       "                              AGG                                          \\\n",
       "                             open    high       low     close      volume   \n",
       "time                                                                        \n",
       "2017-08-07 00:00:00-04:00  109.69  109.72  109.6066  109.6850   1425317.0   \n",
       "2017-08-08 00:00:00-04:00  109.67  109.69  109.5000  109.5810   1998999.0   \n",
       "2017-08-09 00:00:00-04:00  109.87  109.87  109.6600  109.6700   2069028.0   \n",
       "2017-08-10 00:00:00-04:00  109.70  109.85  109.6700  109.8053   1691677.0   \n",
       "2017-08-11 00:00:00-04:00  109.75  109.94  109.6800  109.8850   1613467.0   \n",
       "...                           ...     ...       ...       ...         ...   \n",
       "2020-08-03 00:00:00-04:00  119.37  119.40  119.1903  119.4000  17837420.0   \n",
       "2020-08-04 00:00:00-04:00  119.42  119.63  119.4200  119.6300  21512268.0   \n",
       "2020-08-05 00:00:00-04:00  119.39  119.49  119.3100  119.4000  34175883.0   \n",
       "2020-08-06 00:00:00-04:00  119.62  119.73  119.5300  119.5800   9009216.0   \n",
       "2020-08-07 00:00:00-04:00  119.66  119.73  119.3950  119.4450   8830420.0   \n",
       "\n",
       "                                             SPY                           \\\n",
       "                          daily_return      open    high     low    close   \n",
       "time                                                                        \n",
       "2017-08-07 00:00:00-04:00          NaN  247.4900  247.87  247.37  247.850   \n",
       "2017-08-08 00:00:00-04:00    -0.000948  247.5100  248.91  246.83  247.291   \n",
       "2017-08-09 00:00:00-04:00     0.000812  246.4700  247.31  246.06  247.230   \n",
       "2017-08-10 00:00:00-04:00     0.001234  246.2800  246.44  243.70  243.790   \n",
       "2017-08-11 00:00:00-04:00     0.000726  244.0200  244.80  243.75  244.110   \n",
       "...                                ...       ...     ...     ...      ...   \n",
       "2020-08-03 00:00:00-04:00    -0.001338  328.3200  329.62  327.73  328.760   \n",
       "2020-08-04 00:00:00-04:00     0.001926  327.8600  330.06  327.86  330.030   \n",
       "2020-08-05 00:00:00-04:00    -0.001923  331.4700  332.39  331.18  332.060   \n",
       "2020-08-06 00:00:00-04:00     0.001508  331.4799  334.46  331.13  334.310   \n",
       "2020-08-07 00:00:00-04:00    -0.001129  333.2800  334.88  332.30  334.550   \n",
       "\n",
       "                                                  \n",
       "                             volume daily_return  \n",
       "time                                              \n",
       "2017-08-07 00:00:00-04:00  20901988          NaN  \n",
       "2017-08-08 00:00:00-04:00  44619069    -0.002255  \n",
       "2017-08-09 00:00:00-04:00  48543032    -0.000247  \n",
       "2017-08-10 00:00:00-04:00  87857827    -0.013914  \n",
       "2017-08-11 00:00:00-04:00  56404847     0.001313  \n",
       "...                             ...          ...  \n",
       "2020-08-03 00:00:00-04:00  71741125     0.006768  \n",
       "2020-08-04 00:00:00-04:00  73684427     0.003863  \n",
       "2020-08-05 00:00:00-04:00  72846458     0.006151  \n",
       "2020-08-06 00:00:00-04:00  76900649     0.006776  \n",
       "2020-08-07 00:00:00-04:00  98710236     0.000718  \n",
       "\n",
       "[757 rows x 12 columns]"
      ]
     },
     "execution_count": 177,
     "metadata": {},
     "output_type": "execute_result"
    }
   ],
   "source": [
    "# Configure a Monte Carlo simulation to forecast 10 years cumulative returns\n",
    "# The weights should be split 20% to AGG and 80% to SPY.\n",
    "# Run 500 samples.\n",
    "MC_2080_weight = MCSimulation(\n",
    "    portfolio_data = prices_df,\n",
    "    weights = [.80, 0.20],\n",
    "    num_simulation = 500,\n",
    "    num_trading_days = 252*10\n",
    ")\n",
    "\n",
    "# Review the simulation input data\n",
    "MC_2080_weight.portfolio_data"
   ]
  },
  {
   "cell_type": "code",
   "execution_count": 178,
   "metadata": {},
   "outputs": [
    {
     "name": "stdout",
     "output_type": "stream",
     "text": [
      "Running Monte Carlo simulation number 0.\n",
      "Running Monte Carlo simulation number 10.\n",
      "Running Monte Carlo simulation number 20.\n",
      "Running Monte Carlo simulation number 30.\n",
      "Running Monte Carlo simulation number 40.\n",
      "Running Monte Carlo simulation number 50.\n",
      "Running Monte Carlo simulation number 60.\n",
      "Running Monte Carlo simulation number 70.\n",
      "Running Monte Carlo simulation number 80.\n",
      "Running Monte Carlo simulation number 90.\n",
      "Running Monte Carlo simulation number 100.\n"
     ]
    },
    {
     "name": "stderr",
     "output_type": "stream",
     "text": [
      "/Users/yusun/Desktop/Challenges/05_Financial_Planners/MCForecastTools.py:117: PerformanceWarning: DataFrame is highly fragmented.  This is usually the result of calling `frame.insert` many times, which has poor performance.  Consider joining all columns at once using pd.concat(axis=1) instead.  To get a de-fragmented frame, use `newframe = frame.copy()`\n",
      "  portfolio_cumulative_returns[n] = (1 + sim_df.fillna(0)).cumprod()\n"
     ]
    },
    {
     "name": "stdout",
     "output_type": "stream",
     "text": [
      "Running Monte Carlo simulation number 110.\n",
      "Running Monte Carlo simulation number 120.\n",
      "Running Monte Carlo simulation number 130.\n",
      "Running Monte Carlo simulation number 140.\n",
      "Running Monte Carlo simulation number 150.\n",
      "Running Monte Carlo simulation number 160.\n",
      "Running Monte Carlo simulation number 170.\n",
      "Running Monte Carlo simulation number 180.\n",
      "Running Monte Carlo simulation number 190.\n",
      "Running Monte Carlo simulation number 200.\n",
      "Running Monte Carlo simulation number 210.\n",
      "Running Monte Carlo simulation number 220.\n",
      "Running Monte Carlo simulation number 230.\n",
      "Running Monte Carlo simulation number 240.\n",
      "Running Monte Carlo simulation number 250.\n",
      "Running Monte Carlo simulation number 260.\n",
      "Running Monte Carlo simulation number 270.\n",
      "Running Monte Carlo simulation number 280.\n",
      "Running Monte Carlo simulation number 290.\n",
      "Running Monte Carlo simulation number 300.\n",
      "Running Monte Carlo simulation number 310.\n",
      "Running Monte Carlo simulation number 320.\n",
      "Running Monte Carlo simulation number 330.\n",
      "Running Monte Carlo simulation number 340.\n",
      "Running Monte Carlo simulation number 350.\n",
      "Running Monte Carlo simulation number 360.\n",
      "Running Monte Carlo simulation number 370.\n",
      "Running Monte Carlo simulation number 380.\n",
      "Running Monte Carlo simulation number 390.\n",
      "Running Monte Carlo simulation number 400.\n",
      "Running Monte Carlo simulation number 410.\n",
      "Running Monte Carlo simulation number 420.\n",
      "Running Monte Carlo simulation number 430.\n",
      "Running Monte Carlo simulation number 440.\n",
      "Running Monte Carlo simulation number 450.\n",
      "Running Monte Carlo simulation number 460.\n",
      "Running Monte Carlo simulation number 470.\n",
      "Running Monte Carlo simulation number 480.\n",
      "Running Monte Carlo simulation number 490.\n"
     ]
    },
    {
     "data": {
      "text/html": [
       "<div>\n",
       "<style scoped>\n",
       "    .dataframe tbody tr th:only-of-type {\n",
       "        vertical-align: middle;\n",
       "    }\n",
       "\n",
       "    .dataframe tbody tr th {\n",
       "        vertical-align: top;\n",
       "    }\n",
       "\n",
       "    .dataframe thead th {\n",
       "        text-align: right;\n",
       "    }\n",
       "</style>\n",
       "<table border=\"1\" class=\"dataframe\">\n",
       "  <thead>\n",
       "    <tr style=\"text-align: right;\">\n",
       "      <th></th>\n",
       "      <th>0</th>\n",
       "      <th>1</th>\n",
       "      <th>2</th>\n",
       "      <th>3</th>\n",
       "      <th>4</th>\n",
       "      <th>5</th>\n",
       "      <th>6</th>\n",
       "      <th>7</th>\n",
       "      <th>8</th>\n",
       "      <th>9</th>\n",
       "      <th>...</th>\n",
       "      <th>490</th>\n",
       "      <th>491</th>\n",
       "      <th>492</th>\n",
       "      <th>493</th>\n",
       "      <th>494</th>\n",
       "      <th>495</th>\n",
       "      <th>496</th>\n",
       "      <th>497</th>\n",
       "      <th>498</th>\n",
       "      <th>499</th>\n",
       "    </tr>\n",
       "  </thead>\n",
       "  <tbody>\n",
       "    <tr>\n",
       "      <th>0</th>\n",
       "      <td>1.000000</td>\n",
       "      <td>1.000000</td>\n",
       "      <td>1.000000</td>\n",
       "      <td>1.000000</td>\n",
       "      <td>1.000000</td>\n",
       "      <td>1.000000</td>\n",
       "      <td>1.000000</td>\n",
       "      <td>1.000000</td>\n",
       "      <td>1.000000</td>\n",
       "      <td>1.000000</td>\n",
       "      <td>...</td>\n",
       "      <td>1.000000</td>\n",
       "      <td>1.000000</td>\n",
       "      <td>1.000000</td>\n",
       "      <td>1.000000</td>\n",
       "      <td>1.000000</td>\n",
       "      <td>1.000000</td>\n",
       "      <td>1.000000</td>\n",
       "      <td>1.000000</td>\n",
       "      <td>1.000000</td>\n",
       "      <td>1.000000</td>\n",
       "    </tr>\n",
       "    <tr>\n",
       "      <th>1</th>\n",
       "      <td>1.004865</td>\n",
       "      <td>0.998324</td>\n",
       "      <td>0.993167</td>\n",
       "      <td>0.994519</td>\n",
       "      <td>1.000861</td>\n",
       "      <td>0.998888</td>\n",
       "      <td>1.004280</td>\n",
       "      <td>0.999729</td>\n",
       "      <td>0.996284</td>\n",
       "      <td>1.001106</td>\n",
       "      <td>...</td>\n",
       "      <td>0.999409</td>\n",
       "      <td>1.004261</td>\n",
       "      <td>1.002743</td>\n",
       "      <td>0.999984</td>\n",
       "      <td>1.004500</td>\n",
       "      <td>1.000044</td>\n",
       "      <td>1.005447</td>\n",
       "      <td>0.997706</td>\n",
       "      <td>0.989416</td>\n",
       "      <td>0.995382</td>\n",
       "    </tr>\n",
       "    <tr>\n",
       "      <th>2</th>\n",
       "      <td>1.008286</td>\n",
       "      <td>0.997244</td>\n",
       "      <td>0.995534</td>\n",
       "      <td>0.997933</td>\n",
       "      <td>1.002660</td>\n",
       "      <td>1.001273</td>\n",
       "      <td>0.999547</td>\n",
       "      <td>1.002351</td>\n",
       "      <td>0.996769</td>\n",
       "      <td>0.998652</td>\n",
       "      <td>...</td>\n",
       "      <td>0.995370</td>\n",
       "      <td>1.003015</td>\n",
       "      <td>1.001932</td>\n",
       "      <td>1.001880</td>\n",
       "      <td>1.001422</td>\n",
       "      <td>0.999731</td>\n",
       "      <td>1.003290</td>\n",
       "      <td>0.999120</td>\n",
       "      <td>0.995275</td>\n",
       "      <td>0.988217</td>\n",
       "    </tr>\n",
       "    <tr>\n",
       "      <th>3</th>\n",
       "      <td>1.004280</td>\n",
       "      <td>1.004632</td>\n",
       "      <td>1.002191</td>\n",
       "      <td>0.995399</td>\n",
       "      <td>1.004532</td>\n",
       "      <td>1.005813</td>\n",
       "      <td>1.003750</td>\n",
       "      <td>0.998105</td>\n",
       "      <td>0.997047</td>\n",
       "      <td>0.997349</td>\n",
       "      <td>...</td>\n",
       "      <td>0.993517</td>\n",
       "      <td>1.003479</td>\n",
       "      <td>0.998790</td>\n",
       "      <td>1.005783</td>\n",
       "      <td>1.002472</td>\n",
       "      <td>1.004652</td>\n",
       "      <td>1.007282</td>\n",
       "      <td>0.996597</td>\n",
       "      <td>0.991672</td>\n",
       "      <td>0.991686</td>\n",
       "    </tr>\n",
       "    <tr>\n",
       "      <th>4</th>\n",
       "      <td>1.006234</td>\n",
       "      <td>1.005625</td>\n",
       "      <td>1.004700</td>\n",
       "      <td>0.996089</td>\n",
       "      <td>1.007679</td>\n",
       "      <td>1.006248</td>\n",
       "      <td>1.001019</td>\n",
       "      <td>0.997389</td>\n",
       "      <td>0.992008</td>\n",
       "      <td>0.988994</td>\n",
       "      <td>...</td>\n",
       "      <td>0.994394</td>\n",
       "      <td>1.003686</td>\n",
       "      <td>1.001314</td>\n",
       "      <td>1.002077</td>\n",
       "      <td>1.004462</td>\n",
       "      <td>1.005447</td>\n",
       "      <td>1.006669</td>\n",
       "      <td>1.007908</td>\n",
       "      <td>0.990908</td>\n",
       "      <td>0.994630</td>\n",
       "    </tr>\n",
       "    <tr>\n",
       "      <th>...</th>\n",
       "      <td>...</td>\n",
       "      <td>...</td>\n",
       "      <td>...</td>\n",
       "      <td>...</td>\n",
       "      <td>...</td>\n",
       "      <td>...</td>\n",
       "      <td>...</td>\n",
       "      <td>...</td>\n",
       "      <td>...</td>\n",
       "      <td>...</td>\n",
       "      <td>...</td>\n",
       "      <td>...</td>\n",
       "      <td>...</td>\n",
       "      <td>...</td>\n",
       "      <td>...</td>\n",
       "      <td>...</td>\n",
       "      <td>...</td>\n",
       "      <td>...</td>\n",
       "      <td>...</td>\n",
       "      <td>...</td>\n",
       "      <td>...</td>\n",
       "    </tr>\n",
       "    <tr>\n",
       "      <th>2516</th>\n",
       "      <td>1.797431</td>\n",
       "      <td>1.306299</td>\n",
       "      <td>1.459203</td>\n",
       "      <td>1.740084</td>\n",
       "      <td>2.286788</td>\n",
       "      <td>1.453170</td>\n",
       "      <td>1.781161</td>\n",
       "      <td>1.689427</td>\n",
       "      <td>1.944594</td>\n",
       "      <td>1.007552</td>\n",
       "      <td>...</td>\n",
       "      <td>1.818916</td>\n",
       "      <td>1.632843</td>\n",
       "      <td>1.654705</td>\n",
       "      <td>1.589537</td>\n",
       "      <td>1.501562</td>\n",
       "      <td>2.013871</td>\n",
       "      <td>1.631385</td>\n",
       "      <td>1.225897</td>\n",
       "      <td>1.511748</td>\n",
       "      <td>1.283765</td>\n",
       "    </tr>\n",
       "    <tr>\n",
       "      <th>2517</th>\n",
       "      <td>1.792777</td>\n",
       "      <td>1.307363</td>\n",
       "      <td>1.450128</td>\n",
       "      <td>1.743557</td>\n",
       "      <td>2.276923</td>\n",
       "      <td>1.441648</td>\n",
       "      <td>1.782524</td>\n",
       "      <td>1.687530</td>\n",
       "      <td>1.945816</td>\n",
       "      <td>1.014364</td>\n",
       "      <td>...</td>\n",
       "      <td>1.802062</td>\n",
       "      <td>1.633978</td>\n",
       "      <td>1.648078</td>\n",
       "      <td>1.575429</td>\n",
       "      <td>1.499527</td>\n",
       "      <td>2.021294</td>\n",
       "      <td>1.639178</td>\n",
       "      <td>1.215749</td>\n",
       "      <td>1.511194</td>\n",
       "      <td>1.285450</td>\n",
       "    </tr>\n",
       "    <tr>\n",
       "      <th>2518</th>\n",
       "      <td>1.781393</td>\n",
       "      <td>1.307676</td>\n",
       "      <td>1.451207</td>\n",
       "      <td>1.736593</td>\n",
       "      <td>2.263816</td>\n",
       "      <td>1.444069</td>\n",
       "      <td>1.778368</td>\n",
       "      <td>1.688602</td>\n",
       "      <td>1.955596</td>\n",
       "      <td>1.010711</td>\n",
       "      <td>...</td>\n",
       "      <td>1.799897</td>\n",
       "      <td>1.634961</td>\n",
       "      <td>1.649681</td>\n",
       "      <td>1.579470</td>\n",
       "      <td>1.503199</td>\n",
       "      <td>2.028419</td>\n",
       "      <td>1.638375</td>\n",
       "      <td>1.206815</td>\n",
       "      <td>1.517354</td>\n",
       "      <td>1.287327</td>\n",
       "    </tr>\n",
       "    <tr>\n",
       "      <th>2519</th>\n",
       "      <td>1.776752</td>\n",
       "      <td>1.303951</td>\n",
       "      <td>1.441157</td>\n",
       "      <td>1.749787</td>\n",
       "      <td>2.247704</td>\n",
       "      <td>1.444861</td>\n",
       "      <td>1.778305</td>\n",
       "      <td>1.685610</td>\n",
       "      <td>1.949896</td>\n",
       "      <td>1.010480</td>\n",
       "      <td>...</td>\n",
       "      <td>1.802314</td>\n",
       "      <td>1.644182</td>\n",
       "      <td>1.644507</td>\n",
       "      <td>1.580146</td>\n",
       "      <td>1.496657</td>\n",
       "      <td>2.030143</td>\n",
       "      <td>1.640706</td>\n",
       "      <td>1.204785</td>\n",
       "      <td>1.516102</td>\n",
       "      <td>1.286882</td>\n",
       "    </tr>\n",
       "    <tr>\n",
       "      <th>2520</th>\n",
       "      <td>1.773897</td>\n",
       "      <td>1.317568</td>\n",
       "      <td>1.439405</td>\n",
       "      <td>1.754117</td>\n",
       "      <td>2.253094</td>\n",
       "      <td>1.443427</td>\n",
       "      <td>1.778724</td>\n",
       "      <td>1.692924</td>\n",
       "      <td>1.947788</td>\n",
       "      <td>1.003332</td>\n",
       "      <td>...</td>\n",
       "      <td>1.798351</td>\n",
       "      <td>1.649258</td>\n",
       "      <td>1.632400</td>\n",
       "      <td>1.586783</td>\n",
       "      <td>1.491371</td>\n",
       "      <td>2.042393</td>\n",
       "      <td>1.642881</td>\n",
       "      <td>1.199841</td>\n",
       "      <td>1.520187</td>\n",
       "      <td>1.286667</td>\n",
       "    </tr>\n",
       "  </tbody>\n",
       "</table>\n",
       "<p>2521 rows × 500 columns</p>\n",
       "</div>"
      ],
      "text/plain": [
       "           0         1         2         3         4         5         6    \\\n",
       "0     1.000000  1.000000  1.000000  1.000000  1.000000  1.000000  1.000000   \n",
       "1     1.004865  0.998324  0.993167  0.994519  1.000861  0.998888  1.004280   \n",
       "2     1.008286  0.997244  0.995534  0.997933  1.002660  1.001273  0.999547   \n",
       "3     1.004280  1.004632  1.002191  0.995399  1.004532  1.005813  1.003750   \n",
       "4     1.006234  1.005625  1.004700  0.996089  1.007679  1.006248  1.001019   \n",
       "...        ...       ...       ...       ...       ...       ...       ...   \n",
       "2516  1.797431  1.306299  1.459203  1.740084  2.286788  1.453170  1.781161   \n",
       "2517  1.792777  1.307363  1.450128  1.743557  2.276923  1.441648  1.782524   \n",
       "2518  1.781393  1.307676  1.451207  1.736593  2.263816  1.444069  1.778368   \n",
       "2519  1.776752  1.303951  1.441157  1.749787  2.247704  1.444861  1.778305   \n",
       "2520  1.773897  1.317568  1.439405  1.754117  2.253094  1.443427  1.778724   \n",
       "\n",
       "           7         8         9    ...       490       491       492  \\\n",
       "0     1.000000  1.000000  1.000000  ...  1.000000  1.000000  1.000000   \n",
       "1     0.999729  0.996284  1.001106  ...  0.999409  1.004261  1.002743   \n",
       "2     1.002351  0.996769  0.998652  ...  0.995370  1.003015  1.001932   \n",
       "3     0.998105  0.997047  0.997349  ...  0.993517  1.003479  0.998790   \n",
       "4     0.997389  0.992008  0.988994  ...  0.994394  1.003686  1.001314   \n",
       "...        ...       ...       ...  ...       ...       ...       ...   \n",
       "2516  1.689427  1.944594  1.007552  ...  1.818916  1.632843  1.654705   \n",
       "2517  1.687530  1.945816  1.014364  ...  1.802062  1.633978  1.648078   \n",
       "2518  1.688602  1.955596  1.010711  ...  1.799897  1.634961  1.649681   \n",
       "2519  1.685610  1.949896  1.010480  ...  1.802314  1.644182  1.644507   \n",
       "2520  1.692924  1.947788  1.003332  ...  1.798351  1.649258  1.632400   \n",
       "\n",
       "           493       494       495       496       497       498       499  \n",
       "0     1.000000  1.000000  1.000000  1.000000  1.000000  1.000000  1.000000  \n",
       "1     0.999984  1.004500  1.000044  1.005447  0.997706  0.989416  0.995382  \n",
       "2     1.001880  1.001422  0.999731  1.003290  0.999120  0.995275  0.988217  \n",
       "3     1.005783  1.002472  1.004652  1.007282  0.996597  0.991672  0.991686  \n",
       "4     1.002077  1.004462  1.005447  1.006669  1.007908  0.990908  0.994630  \n",
       "...        ...       ...       ...       ...       ...       ...       ...  \n",
       "2516  1.589537  1.501562  2.013871  1.631385  1.225897  1.511748  1.283765  \n",
       "2517  1.575429  1.499527  2.021294  1.639178  1.215749  1.511194  1.285450  \n",
       "2518  1.579470  1.503199  2.028419  1.638375  1.206815  1.517354  1.287327  \n",
       "2519  1.580146  1.496657  2.030143  1.640706  1.204785  1.516102  1.286882  \n",
       "2520  1.586783  1.491371  2.042393  1.642881  1.199841  1.520187  1.286667  \n",
       "\n",
       "[2521 rows x 500 columns]"
      ]
     },
     "execution_count": 178,
     "metadata": {},
     "output_type": "execute_result"
    }
   ],
   "source": [
    "# Run the Monte Carlo simulation to forecast 10 years cumulative returns\n",
    "MC_2080_weight.calc_cumulative_return()"
   ]
  },
  {
   "cell_type": "code",
   "execution_count": 179,
   "metadata": {},
   "outputs": [
    {
     "data": {
      "text/plain": [
       "<AxesSubplot:title={'center':'500 Simulations of Cumulative Portfolio Return Trajectories Over the Next 2520 Trading Days.'}>"
      ]
     },
     "execution_count": 179,
     "metadata": {},
     "output_type": "execute_result"
    },
    {
     "data": {
      "image/png": "[encoded data removed]",
      "text/plain": [
       "<Figure size 432x288 with 1 Axes>"
      ]
     },
     "metadata": {
      "needs_background": "light"
     },
     "output_type": "display_data"
    }
   ],
   "source": [
    "# Visualize the 10-year Monte Carlo simulation by creating an\n",
    "# overlay line plot\n",
    "MC_2080_weight.plot_simulation()"
   ]
  },
  {
   "cell_type": "code",
   "execution_count": 192,
   "metadata": {},
   "outputs": [
    {
     "data": {
      "text/plain": [
       "<AxesSubplot:title={'center':'Distribution of Final Cumuluative Returns Across All 500 Simulations'}, ylabel='Frequency'>"
      ]
     },
     "execution_count": 192,
     "metadata": {},
     "output_type": "execute_result"
    },
    {
     "data": {
      "image/png": "[encoded data removed]",
      "text/plain": [
       "<Figure size 432x288 with 1 Axes>"
      ]
     },
     "metadata": {
      "needs_background": "light"
     },
     "output_type": "display_data"
    }
   ],
   "source": [
    "# Visualize the probability distribution of the 10-year Monte Carlo simulation \n",
    "# by plotting a histogram\n",
    "MC_2080_weight.plot_distribution()"
   ]
  },
  {
   "cell_type": "code",
   "execution_count": 181,
   "metadata": {},
   "outputs": [
    {
     "name": "stdout",
     "output_type": "stream",
     "text": [
      "count           500.000000\n",
      "mean              1.659149\n",
      "std               0.345873\n",
      "min               0.892738\n",
      "25%               1.408339\n",
      "50%               1.633296\n",
      "75%               1.858090\n",
      "max               3.178660\n",
      "95% CI Lower      1.095066\n",
      "95% CI Upper      2.394210\n",
      "Name: 2520, dtype: float64\n"
     ]
    }
   ],
   "source": [
    "# Generate summary statistics from the 10-year Monte Carlo simulation results\n",
    "# Save the results as a variable\n",
    "weight_table2 = MC_2080_weight.summarize_cumulative_return()\n",
    "\n",
    "# Review the 10-year Monte Carlo summary statistics\n",
    "print(weight_table2)\n"
   ]
  },
  {
   "cell_type": "markdown",
   "metadata": {},
   "source": [
    "### Answer the following questions:"
   ]
  },
  {
   "cell_type": "markdown",
   "metadata": {},
   "source": [
    "#### Question: Using the current value of only the stock and bond portion of the member's portfolio and the summary statistics that you generated from the new Monte Carlo simulation, what are the lower and upper bounds for the expected value of the portfolio (with the new weights) with a 95% confidence interval?"
   ]
  },
  {
   "cell_type": "code",
   "execution_count": 182,
   "metadata": {},
   "outputs": [
    {
     "data": {
      "text/plain": [
       "70640.1"
      ]
     },
     "execution_count": 182,
     "metadata": {},
     "output_type": "execute_result"
    }
   ],
   "source": [
    "# Print the current balance of the stock and bond portion of the members portfolio\n",
    "total_stocks_bonds"
   ]
  },
  {
   "cell_type": "code",
   "execution_count": 183,
   "metadata": {},
   "outputs": [
    {
     "name": "stdout",
     "output_type": "stream",
     "text": [
      "$77356\n",
      "$169127\n"
     ]
    }
   ],
   "source": [
    "# Use the lower and upper `95%` confidence intervals to calculate the range of the possible outcomes for the current stock/bond portfolio\n",
    "ci_lower_ten_cumulative_return = round(weight_table2[8]*total_stocks_bonds)\n",
    "ci_upper_ten_cumulative_return = round(weight_table2[9]*total_stocks_bonds)\n",
    "\n",
    "# Print the result of your calculations\n",
    "print(f\"${ci_lower_ten_cumulative_return}\")\n",
    "print(f\"${ci_upper_ten_cumulative_return}\")"
   ]
  },
  {
   "cell_type": "markdown",
   "metadata": {},
   "source": [
    "#### Question: Will weighting the portfolio more heavily to stocks allow the credit union members to retire after only 10 years?"
   ]
  },
  {
   "cell_type": "raw",
   "metadata": {},
   "source": [
    "**Answer** #Summary data is below to better see the comparisons. From this data, it is clear that no, weighting the portfolio more heavily to stocks will not allow the credit union member to retire after only 10 years. \n",
    "\n",
    "As you can see, with the weight of 20% AGG and 80% SPY in the span of 10 years, there is a 95% chance that an initial investment of $70640.1 in the portfolio will end within the range of $77356 and $169127. \n",
    "\n",
    "However, with the weight of 40% AGG and 60% SPY in the span of 30 years, there is a 95% chance that an initial investment of $70640.1 in the portfolio will end within the range of $172851 and $1294715. This is clearly the better strategy. \n"
   ]
  },
  {
   "cell_type": "code",
   "execution_count": 196,
   "metadata": {},
   "outputs": [
    {
     "name": "stdout",
     "output_type": "stream",
     "text": [
      "30 years, 40% AGG, 60% SPY\n",
      "There is a 95% chance that an initial investment of $70640.1 in the portfolio with a 40% weight in AGG and 60% in SPY over the next 30 years will end within the range of $172851 and $1294715.\n"
     ]
    }
   ],
   "source": [
    "#30 year, 40% AGG, 60% SPY\n",
    "\n",
    "ci_lower_thirty_cumulative_return = round(weight_table[8]*total_stocks_bonds)\n",
    "ci_upper_thirty_cumulative_return = round(weight_table[9]*total_stocks_bonds)\n",
    "\n",
    "print(\"30 years, 40% AGG, 60% SPY\")\n",
    "print(f\"There is a 95% chance that an initial investment of ${total_stocks_bonds} in the portfolio\"\n",
    "      f\" with a 40% weight in AGG and 60% in SPY over the next 30 years will end within the range of\"\n",
    "      f\" ${ci_lower_thirty_cumulative_return} and ${ci_upper_thirty_cumulative_return}.\")"
   ]
  },
  {
   "cell_type": "code",
   "execution_count": 199,
   "metadata": {},
   "outputs": [
    {
     "name": "stdout",
     "output_type": "stream",
     "text": [
      "10 years, 20% AGG, 80% SPY\n",
      "There is a 95% chance that an initial investment of $70640.1 in the portfolio with a 20% weight in AGG and 80% in SPY over the next 10 years will end within the range of $77356 and $169127.\n"
     ]
    }
   ],
   "source": [
    "#10 year, 20% AGG, 80% SPY\n",
    "\n",
    "ci_lower_ten_cumulative_return = round(weight_table2[8]*total_stocks_bonds)\n",
    "ci_upper_ten_cumulative_return = round(weight_table2[9]*total_stocks_bonds)\n",
    "\n",
    "print(\"10 years, 20% AGG, 80% SPY\")\n",
    "print(f\"There is a 95% chance that an initial investment of ${total_stocks_bonds} in the portfolio\"\n",
    "      f\" with a 20% weight in AGG and 80% in SPY over the next 10 years will end within the range of\"\n",
    "      f\" ${ci_lower_ten_cumulative_return} and ${ci_upper_ten_cumulative_return}.\")"
   ]
  },
  {
   "cell_type": "code",
   "execution_count": null,
   "metadata": {},
   "outputs": [],
   "source": []
  }
 ],
 "metadata": {
  "kernelspec": {
   "display_name": "Python 3.7.11 64-bit ('dev': conda)",
   "language": "python",
   "name": "python3711jvsc74a57bd0bebb3c008ebb16a6efdc6e2e7616c1efbc441d52e59a43133a401f81db6d4773"
  },
  "language_info": {
   "codemirror_mode": {
    "name": "ipython",
    "version": 3
   },
   "file_extension": ".py",
   "mimetype": "text/x-python",
   "name": "python",
   "nbconvert_exporter": "python",
   "pygments_lexer": "ipython3",
   "version": "3.7.11"
  }
 },
 "nbformat": 4,
 "nbformat_minor": 4
}
